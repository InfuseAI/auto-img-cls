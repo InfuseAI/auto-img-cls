{
  "nbformat": 4,
  "nbformat_minor": 0,
  "metadata": {
    "colab": {
      "name": "auto_img_cls_tensorboard.ipynb",
      "provenance": [],
      "collapsed_sections": [
        "yxOYA7t2ZVqw"
      ]
    },
    "kernelspec": {
      "name": "python3",
      "display_name": "Python 3"
    },
    "language_info": {
      "name": "python"
    },
    "accelerator": "GPU"
  },
  "cells": [
    {
      "cell_type": "markdown",
      "source": [
        "# Step 0: Init the AutoML program\n",
        "\n",
        "Run the cell to import necessary modules and training code."
      ],
      "metadata": {
        "id": "yxOYA7t2ZVqw"
      }
    },
    {
      "cell_type": "code",
      "execution_count": null,
      "metadata": {
        "id": "0u9W76KIZKGx"
      },
      "outputs": [],
      "source": [
        "import numpy as np\n",
        "import os\n",
        "import contextlib\n",
        "import tensorflow as tf\n",
        "import tempfile\n",
        "import shutil\n",
        "import zipfile\n",
        "from PIL import Image\n",
        "import numpy as np\n",
        "import zipfile\n",
        "import datetime\n",
        "\n",
        "\n",
        "@contextlib.contextmanager\n",
        "def _tempdir():\n",
        "    dirpath = tempfile.mkdtemp()\n",
        "    yield dirpath\n",
        "    shutil.rmtree(dirpath)\n",
        "\n",
        "\n",
        "class ImageClassifier:\n",
        "    def __init__(self):\n",
        "        self.model = None\n",
        "        self.image_size = None\n",
        "        self.class_names = None\n",
        "\n",
        "    def train(self, dataset_dir, batch_size=32, epochs=1, image_size=(160, 160), learning_rate=0.0001, hparams=None):\n",
        "        # Step1: Data prep\n",
        "        train_dataset = tf.keras.utils.image_dataset_from_directory(dataset_dir,\n",
        "                                                                    seed=1337,\n",
        "                                                                    validation_split=0.2,\n",
        "                                                                    batch_size=batch_size,\n",
        "                                                                    subset='training',\n",
        "                                                                    image_size=image_size)\n",
        "        validation_dataset = tf.keras.utils.image_dataset_from_directory(dataset_dir,\n",
        "                                                                         seed=1337,\n",
        "                                                                         validation_split=0.2,\n",
        "                                                                         batch_size=batch_size,\n",
        "                                                                         subset='validation',\n",
        "                                                                         image_size=image_size)\n",
        "        class_names = train_dataset.class_names\n",
        "\n",
        "        print('Number of trian batches: %d' %\n",
        "              tf.data.experimental.cardinality(train_dataset))\n",
        "        print('Number of validation batches: %d' %\n",
        "              tf.data.experimental.cardinality(validation_dataset))\n",
        "        train_dataset = train_dataset.prefetch(buffer_size=tf.data.AUTOTUNE)\n",
        "        validation_dataset = validation_dataset.prefetch(\n",
        "            buffer_size=tf.data.AUTOTUNE)\n",
        "\n",
        "        # Step2: Model Architecture\n",
        "\n",
        "        # Skip the data_augmentation because\n",
        "        # https://stackoverflow.com/questions/69955838/saving-model-on-tensorflow-2-7-0-with-data-augmentation-layer\n",
        "        #\n",
        "        # data_augmentation = tf.keras.Sequential([\n",
        "        #     tf.keras.layers.RandomFlip('horizontal'),\n",
        "        #     tf.keras.layers.RandomRotation(0.2),\n",
        "        # ])\n",
        "        preprocess_input = tf.keras.applications.mobilenet_v2.preprocess_input\n",
        "        image_shape = image_size + (3,)\n",
        "        base_model = tf.keras.applications.MobileNetV2(input_shape=image_shape,\n",
        "                                                       include_top=False,\n",
        "                                                       weights='imagenet')\n",
        "        base_model.trainable = True\n",
        "        fine_tune_at = 100\n",
        "        for layer in base_model.layers[:fine_tune_at]:\n",
        "            layer.trainable = False\n",
        "\n",
        "        global_average_layer = tf.keras.layers.GlobalAveragePooling2D()\n",
        "        inputs = tf.keras.Input(shape=image_shape)\n",
        "        x = inputs\n",
        "        # x = data_augmentation(x)\n",
        "        x = preprocess_input(x)\n",
        "        x = base_model(x, training=False)\n",
        "        x = global_average_layer(x)\n",
        "        x = tf.keras.layers.Dropout(0.2)(x)\n",
        "        x = tf.keras.layers.Dense(len(class_names))(x)\n",
        "        outputs = tf.nn.softmax(x)\n",
        "        model = tf.keras.Model(inputs, outputs)\n",
        "        model.compile(optimizer=tf.keras.optimizers.Adam(learning_rate=learning_rate),\n",
        "                      loss=tf.keras.losses.SparseCategoricalCrossentropy(\n",
        "            from_logits=False),\n",
        "            metrics=['accuracy'])\n",
        "        model.summary()\n",
        "\n",
        "        # Step 3: Start training\n",
        "        logdir = \"logs/fit/\" + datetime.datetime.now().strftime(\"%Y%m%d-%H%M%S\")\n",
        "        file_writer = tf.summary.create_file_writer(logdir + \"/metrics\")\n",
        "        with file_writer.as_default():\n",
        "            tf.summary.scalar('learning rate', data=learning_rate, step=epochs)\n",
        "        # tensorboard_callback = tf.keras.callbacks.TensorBoard(log_dir=log_dir, histogram_freq=1)\n",
        "        if hparams is None:\n",
        "            history = model.fit(train_dataset,\n",
        "                            epochs=epochs,\n",
        "                            validation_data=validation_dataset,\n",
        "                            callbacks=[\n",
        "                                tf.keras.callbacks.TensorBoard(logdir),  # log metrics\n",
        "                            ])\n",
        "        else:\n",
        "            history = model.fit(train_dataset,\n",
        "                            epochs=epochs,\n",
        "                            validation_data=validation_dataset,\n",
        "                            callbacks=[\n",
        "                                tf.keras.callbacks.TensorBoard(logdir),  # log metrics\n",
        "                                hp.KerasCallback(logdir, hparams),       # log hparams\n",
        "                            ])\n",
        "\n",
        "\n",
        "        # Step 4: Evaluation\n",
        "        if validation_dataset:\n",
        "            loss, accuracy = model.evaluate(validation_dataset)\n",
        "            print('Test accuracy :', accuracy)\n",
        "\n",
        "            # Retrieve a batch of images from the test set\n",
        "            image_batch, label_batch = validation_dataset.as_numpy_iterator().next()\n",
        "            predictions = model.predict_on_batch(image_batch)\n",
        "\n",
        "            # Apply softmax and argmax to find the most possible class\n",
        "            predictions = model.predict_on_batch(image_batch)\n",
        "            predictions = tf.math.argmax(predictions, axis=-1)\n",
        "            print('Predictions:\\n', predictions.numpy())\n",
        "            print('Labels:\\n', label_batch)\n",
        "\n",
        "        self.model = model\n",
        "        self.class_names = class_names\n",
        "        self.image_size = (160, 160)\n",
        "        image_size = (160, 160)\n",
        "\n",
        "        return history\n",
        "\n",
        "    def save(self, modelfile):\n",
        "        with _tempdir() as modelpath:\n",
        "            self.model.save(modelpath)\n",
        "            with open(f'{modelpath}/class_names.txt', 'w') as f:\n",
        "                for class_name in self.class_names:\n",
        "                    print(class_name, file=f)\n",
        "\n",
        "            with zipfile.ZipFile(modelfile, 'w', zipfile.ZIP_DEFLATED) as zf:\n",
        "                for dirname, subdirs, files in os.walk(modelpath):\n",
        "                    arc_dirname = dirname[len(modelpath):]\n",
        "                    print(f'dir : {arc_dirname}/')\n",
        "                    zf.write(dirname, arc_dirname)\n",
        "                    for filename in files:\n",
        "                        print(f'file: {arc_dirname}/{filename}')\n",
        "                        zf.write(os.path.join(dirname, filename),\n",
        "                                 os.path.join(arc_dirname, filename))\n",
        "\n",
        "    def load(self, modelfile):\n",
        "        with _tempdir() as dirpath:\n",
        "            with zipfile.ZipFile(modelfile, 'r') as zip_ref:\n",
        "                zip_ref.extractall(dirpath)\n",
        "            model = tf.keras.models.load_model(dirpath)\n",
        "            with open(f\"{dirpath}/class_names.txt\") as f:\n",
        "                class_names = f.readlines()\n",
        "            class_names = [class_name.strip() for class_name in class_names]\n",
        "\n",
        "        self.image_size = (160, 160)\n",
        "        self.class_names = (class_names)\n",
        "        self.model = model\n",
        "\n",
        "    def predict(self, img_path):\n",
        "        with Image.open(img_path) as image:\n",
        "            image = image.resize(self.image_size).convert(\"RGB\")\n",
        "            x = tf.keras.preprocessing.image.img_to_array(image)\n",
        "            x = tf.expand_dims(x, 0)\n",
        "        result = self.model(x)\n",
        "        result = tf.squeeze(result)\n",
        "        cls_idx = int(tf.math.argmax(result, axis=-1))\n",
        "        cls = self.class_names[cls_idx]\n",
        "        return (cls, result.numpy())\n",
        "\n",
        "    def predict_img(self, image):\n",
        "        image = image.resize(self.image_size).convert(\"RGB\")\n",
        "        x = tf.keras.preprocessing.image.img_to_array(image)\n",
        "        x = tf.expand_dims(x, 0)\n",
        "        result = self.model(x)\n",
        "        result = tf.squeeze(result)\n",
        "        cls_idx = int(tf.math.argmax(result, axis=-1))\n",
        "        cls = self.class_names[cls_idx]\n",
        "        return (cls, result.numpy())\n"
      ]
    },
    {
      "cell_type": "markdown",
      "source": [
        "# Step 1: Prepare the dataset\n",
        "\n",
        "The dataset should be a 'zip' file with the following format.\n",
        "\n",
        "```\n",
        "flowers_photos/\n",
        "  daisy/\n",
        "  dandelion/\n",
        "  roses/\n",
        "  sunflowers/\n",
        "  tulips/\n",
        "```  \n",
        "\n",
        "Please see the document in tensorflow\n",
        "https://www.tensorflow.org/tutorials/load_data/images\n",
        "\n",
        "\n",
        "There are two way to prepare the dataset\n",
        "\n",
        "1. Download the example dataset\n",
        "1. Use your own dataset\n",
        "\n",
        "After the step 1, the variable of `dataset_dir` should be set as the directory of your dataset."
      ],
      "metadata": {
        "id": "RZjE7iZbZhx7"
      }
    },
    {
      "cell_type": "markdown",
      "source": [
        "## Option 1: Download the example dataset\n",
        "\n",
        "If you would like to have a quick try, you can use the example dataset."
      ],
      "metadata": {
        "id": "-eFB1gChYEV0"
      }
    },
    {
      "cell_type": "code",
      "source": [
        "_DATASET_URL = 'https://storage.googleapis.com/infuseai-auto-img-cls/datasets/noodles_v1.2.zip'\n",
        "\n",
        "!wget $_DATASET_URL\n",
        "\n",
        "import os\n",
        "import tempfile\n",
        "\n",
        "basename = os.path.basename(_DATASET_URL)\n",
        "\n",
        "with zipfile.ZipFile(basename, 'r') as zip_ref:\n",
        "    zip_ref.extractall(\".\")\n",
        "\n",
        "base, ext = os.path.splitext(basename)\n",
        "dataset_dir = f\"{base}\"\n",
        "print(f\"dataset dir: {dataset_dir}\")"
      ],
      "metadata": {
        "id": "Ya6nXUaAuUwS"
      },
      "execution_count": null,
      "outputs": []
    },
    {
      "cell_type": "markdown",
      "source": [
        "## Option 2: Use your own dataset"
      ],
      "metadata": {
        "id": "jKZ8ClOkZ6Ta"
      }
    },
    {
      "cell_type": "markdown",
      "source": [
        "If you would like to prepare your special dataset, you can use the project [simple_image_download](https://github.com/RiddlerQ/simple_image_download) to download images from google search. But it seems there are some problem if we run it in colab, I recommend to prepare the dataset in your local machine, and upload to colab.\n",
        "\n",
        "1. Clone the auto-img-cls\n",
        "   ```\n",
        "   git clone git@github.com:InfuseAI/auto-img-cls.git\n",
        "   cd auto-img-cls\n",
        "   ```\n",
        "1. Install `simple_image_download`\n",
        "   ```\n",
        "   pip install simple_image_download\n",
        "   ```\n",
        "1. Edit the `download.py`. Change the keywords of images you would like to download\n",
        "   ```\n",
        "   #download.py\n",
        "   from simple_image_download import simple_image_download as simp\n",
        "\n",
        "   response = simp.simple_image_download\n",
        "   response().download('apple,banana,guava', 50)\n",
        "   ```\n",
        "1. Run python script\n",
        "   ```\n",
        "   python ./download\n",
        "   ```\n",
        "  \n",
        "   The downloaded image will go to `simple_images` folder.\n",
        "1. rename, zip, and upload to colab\n",
        "1. Run the below code cell to unzip and set the variable `dataset_dir`"
      ],
      "metadata": {
        "id": "QUeQ1iHQz_0_"
      }
    },
    {
      "cell_type": "code",
      "source": [
        "_DATASET_FILE = '/content/cats_and_dogs_50.zip'\n",
        "\n",
        "import os\n",
        "import tempfile\n",
        "\n",
        "with zipfile.ZipFile(_DATASET_FILE, 'r') as zip_ref:\n",
        "    zip_ref.extractall(\".\")\n",
        "\n",
        "basename = os.path.basename(_DATASET_FILE)\n",
        "dataset_dir, ext = os.path.splitext(basename)\n",
        "\n",
        "print(f\"dataset dir: {dataset_dir}\")"
      ],
      "metadata": {
        "id": "VL6P_suOZ5SK"
      },
      "execution_count": null,
      "outputs": []
    },
    {
      "cell_type": "markdown",
      "source": [
        "# Step 2: Train\n",
        "\n",
        "Now, we have dataset. Then we will start to train a model from the dataset.\n",
        "\n",
        "Most of the time, the step should not be a single run, we should adjust the parameters (or said hyperparameter) to get the best result.\n",
        "\n",
        "There are three parameter we can adjust\n",
        "1. `EPOCHS`: how many times we should go through the whole dataset\n",
        "2. `BATCH_SIZE`: how many data we should update the weights\n",
        "3. `LEARNING_RATE`: how big step we should update the weights for each batch\n",
        "\n",
        "In the training process, we will split the dataset into two part\n",
        "- Training set (80%): use to train and update the weight\n",
        "- Validation set (20%): use to validate the model\n",
        "\n",
        "The goal for each experiment is to get the best accuracy in the validation dataset."
      ],
      "metadata": {
        "id": "Em5mHPGMeR4q"
      }
    },
    {
      "cell_type": "code",
      "source": [
        "EPOCHS = 2\n",
        "BATCH_SIZE = 25\n",
        "LEARNING_RATE = 0.0001\n",
        "\n",
        "classifier = ImageClassifier()\n",
        "history = classifier.train(dataset_dir, epochs=EPOCHS, batch_size=BATCH_SIZE, learning_rate=LEARNING_RATE)"
      ],
      "metadata": {
        "id": "1TVF7a28aPOJ"
      },
      "execution_count": null,
      "outputs": []
    },
    {
      "cell_type": "markdown",
      "source": [
        "## Option: hyperparameters auto-tuing\n",
        "We can list different hyperparameters to track and they will be logged and visulized by HParams Dashboard."
      ],
      "metadata": {
        "id": "ySaX4q_VNzcv"
      }
    },
    {
      "cell_type": "code",
      "source": [
        "!rm -rf logs\n",
        "from tensorboard.plugins.hparams import api as hp\n",
        "HP_EPOCHS = hp.HParam('epochs', hp.Discrete([1, 2]))\n",
        "HP_BATCHES = hp.HParam('batches', hp.Discrete([25, 30]))\n",
        "HP_LEARNING_RATE = hp.HParam('learning_rate', hp.Discrete([0.001, 0.0001]))\n",
        "METRIC_ACCURACY = 'epoch_accuracy'\n",
        "\n",
        "hp.hparams_config(\n",
        "  hparams=[HP_EPOCHS, HP_BATCHES, HP_LEARNING_RATE],\n",
        "  metrics=[hp.Metric(METRIC_ACCURACY, display_name='Accuracy')],\n",
        ")\n",
        "\n",
        "\n",
        "def hparams_combination():\n",
        "    for epochs in HP_EPOCHS.domain.values:\n",
        "        for batches in HP_BATCHES.domain.values:\n",
        "            for learning_rate in HP_LEARNING_RATE.domain.values:\n",
        "                hparams={\n",
        "                    HP_EPOCHS: epochs,\n",
        "                    HP_BATCHES: batches,\n",
        "                    HP_LEARNING_RATE: learning_rate,\n",
        "                }\n",
        "                yield hparams\n",
        "\n",
        "all_hparams = hparams_combination()\n",
        "\n",
        "for hparams in all_hparams:\n",
        "    classifier = ImageClassifier()\n",
        "    classifier.train(dataset_dir, epochs=hparams[HP_EPOCHS], batch_size=hparams[HP_BATCHES], learning_rate=hparams[HP_LEARNING_RATE], hparams=hparams)"
      ],
      "metadata": {
        "id": "on6BHIP7PB4g"
      },
      "execution_count": null,
      "outputs": []
    },
    {
      "cell_type": "markdown",
      "source": [
        "## Load TensorBoard and Show experiment results"
      ],
      "metadata": {
        "id": "1S5B9amWQJ1F"
      }
    },
    {
      "cell_type": "code",
      "source": [
        "%load_ext tensorboard\n",
        "%tensorboard --logdir logs/"
      ],
      "metadata": {
        "id": "QPPjLx5BSOgS"
      },
      "execution_count": null,
      "outputs": []
    },
    {
      "cell_type": "markdown",
      "source": [
        "# Step 3: Predict\n",
        "\n",
        "Use an image to test the model"
      ],
      "metadata": {
        "id": "5bCdXrro3qYD"
      }
    },
    {
      "cell_type": "code",
      "source": [
        "import matplotlib.pyplot as plt\n",
        "import matplotlib.image as img\n",
        "\n",
        "_IMG_PATH=\"/content/noodles_v1.2/beef_noodle/beef_noodle_1.jpeg\"\n",
        "\n",
        "image = img.imread(_IMG_PATH)\n",
        "cls, probs = classifier.predict(_IMG_PATH)\n",
        "\n",
        "plt.title(cls)\n",
        "plt.imshow(image)\n",
        "plt.show()\n",
        "\n",
        "print(f\"predict: {cls}\")\n",
        "print(f\"class_names: {classifier.class_names}\")\n",
        "print(f\"probability: {probs}\")"
      ],
      "metadata": {
        "id": "EBgrIgW0mIkD"
      },
      "execution_count": null,
      "outputs": []
    },
    {
      "cell_type": "markdown",
      "source": [
        "# Step 4: Save and Load\n",
        "\n",
        "After several experiments, we can pick a best model to save."
      ],
      "metadata": {
        "id": "d_UHaf1s4f4i"
      }
    },
    {
      "cell_type": "markdown",
      "source": [
        "## Save the model"
      ],
      "metadata": {
        "id": "rlaJHysU4kg6"
      }
    },
    {
      "cell_type": "code",
      "source": [
        "_MODEL_FILE=\"model.zip\"\n",
        "\n",
        "classifier.save(_MODEL_FILE)"
      ],
      "metadata": {
        "id": "DGxQObmh46so"
      },
      "execution_count": null,
      "outputs": []
    },
    {
      "cell_type": "markdown",
      "source": [
        "## Load the model"
      ],
      "metadata": {
        "id": "x8UCj0Pv4mcv"
      }
    },
    {
      "cell_type": "code",
      "source": [
        "_MODEL_FILE=\"model.zip\"\n",
        "\n",
        "classifier=ImageClassifier()\n",
        "classifier.load(_MODEL_FILE)\n"
      ],
      "metadata": {
        "id": "iuQZoaLBzrCY"
      },
      "execution_count": null,
      "outputs": []
    },
    {
      "cell_type": "markdown",
      "source": [
        "# Step 5: Package and deploy the model"
      ],
      "metadata": {
        "id": "FEmIz1eq2YJr"
      }
    },
    {
      "cell_type": "markdown",
      "source": [
        "1. Download the model to your local machine\n",
        "2. The model name should be `model.zip`\n",
        "3. Build the docker image\n",
        "   ```\n",
        "   docker build --tag model_noodles .\n",
        "   ```\n",
        "3. Run the docker image\n",
        "   ```\n",
        "   docker run -p 8501:8501 model_noodles\n",
        "   ```\n",
        "5. Check http://localhost:8501. \n",
        "6. Cheers!! You have your own image classifier!!\n",
        "\n",
        "\n",
        "If you use mac m1 to run tensorflow docker image, currently there are [known issue](https://github.com/tensorflow/tensorflow/issues/52845) that would crash."
      ],
      "metadata": {
        "id": "R5fi2J4H2zDx"
      }
    }
  ]
}
{
  "nbformat": 4,
  "nbformat_minor": 0,
  "metadata": {
    "colab": {
      "name": "#24118 w&b - auto-img-cls.ipynb",
      "provenance": [],
      "collapsed_sections": [
        "yxOYA7t2ZVqw"
      ]
    },
    "kernelspec": {
      "name": "python3",
      "display_name": "Python 3"
    },
    "language_info": {
      "name": "python"
    },
    "accelerator": "GPU",
    "widgets": {
      "application/vnd.jupyter.widget-state+json": {
        "c2623bc2cd864ba19823a35b01cebdc7": {
          "model_module": "@jupyter-widgets/controls",
          "model_name": "VBoxModel",
          "model_module_version": "1.5.0",
          "state": {
            "_view_name": "VBoxView",
            "_dom_classes": [],
            "_model_name": "VBoxModel",
            "_view_module": "@jupyter-widgets/controls",
            "_model_module_version": "1.5.0",
            "_view_count": null,
            "_view_module_version": "1.5.0",
            "box_style": "",
            "layout": "IPY_MODEL_9c38f1fbf138472b8aa2b930222ece19",
            "_model_module": "@jupyter-widgets/controls",
            "children": [
              "IPY_MODEL_651cd6f17587472f9a33e10dd3460b49",
              "IPY_MODEL_241d6b8ef4f44aa798bd4c55fe55af4f"
            ]
          }
        },
        "9c38f1fbf138472b8aa2b930222ece19": {
          "model_module": "@jupyter-widgets/base",
          "model_name": "LayoutModel",
          "model_module_version": "1.2.0",
          "state": {
            "_view_name": "LayoutView",
            "grid_template_rows": null,
            "right": null,
            "justify_content": null,
            "_view_module": "@jupyter-widgets/base",
            "overflow": null,
            "_model_module_version": "1.2.0",
            "_view_count": null,
            "flex_flow": null,
            "width": null,
            "min_width": null,
            "border": null,
            "align_items": null,
            "bottom": null,
            "_model_module": "@jupyter-widgets/base",
            "top": null,
            "grid_column": null,
            "overflow_y": null,
            "overflow_x": null,
            "grid_auto_flow": null,
            "grid_area": null,
            "grid_template_columns": null,
            "flex": null,
            "_model_name": "LayoutModel",
            "justify_items": null,
            "grid_row": null,
            "max_height": null,
            "align_content": null,
            "visibility": null,
            "align_self": null,
            "height": null,
            "min_height": null,
            "padding": null,
            "grid_auto_rows": null,
            "grid_gap": null,
            "max_width": null,
            "order": null,
            "_view_module_version": "1.2.0",
            "grid_template_areas": null,
            "object_position": null,
            "object_fit": null,
            "grid_auto_columns": null,
            "margin": null,
            "display": null,
            "left": null
          }
        },
        "651cd6f17587472f9a33e10dd3460b49": {
          "model_module": "@jupyter-widgets/controls",
          "model_name": "LabelModel",
          "model_module_version": "1.5.0",
          "state": {
            "_view_name": "LabelView",
            "style": "IPY_MODEL_136c3f03007a47889377c14c9a9f3a14",
            "_dom_classes": [],
            "description": "",
            "_model_name": "LabelModel",
            "placeholder": "​",
            "_view_module": "@jupyter-widgets/controls",
            "_model_module_version": "1.5.0",
            "value": " 23.30MB of 23.30MB uploaded (0.00MB deduped)\r",
            "_view_count": null,
            "_view_module_version": "1.5.0",
            "description_tooltip": null,
            "_model_module": "@jupyter-widgets/controls",
            "layout": "IPY_MODEL_0684845dda714b9ea19e9cffdc48cec4"
          }
        },
        "241d6b8ef4f44aa798bd4c55fe55af4f": {
          "model_module": "@jupyter-widgets/controls",
          "model_name": "FloatProgressModel",
          "model_module_version": "1.5.0",
          "state": {
            "_view_name": "ProgressView",
            "style": "IPY_MODEL_6341468f685945d8a3634598766f8b13",
            "_dom_classes": [],
            "description": "",
            "_model_name": "FloatProgressModel",
            "bar_style": "",
            "max": 1,
            "_view_module": "@jupyter-widgets/controls",
            "_model_module_version": "1.5.0",
            "value": 1,
            "_view_count": null,
            "_view_module_version": "1.5.0",
            "orientation": "horizontal",
            "min": 0,
            "description_tooltip": null,
            "_model_module": "@jupyter-widgets/controls",
            "layout": "IPY_MODEL_ae59c62c4aa94aa9a56fcca5e960cc9e"
          }
        },
        "136c3f03007a47889377c14c9a9f3a14": {
          "model_module": "@jupyter-widgets/controls",
          "model_name": "DescriptionStyleModel",
          "model_module_version": "1.5.0",
          "state": {
            "_view_name": "StyleView",
            "_model_name": "DescriptionStyleModel",
            "description_width": "",
            "_view_module": "@jupyter-widgets/base",
            "_model_module_version": "1.5.0",
            "_view_count": null,
            "_view_module_version": "1.2.0",
            "_model_module": "@jupyter-widgets/controls"
          }
        },
        "0684845dda714b9ea19e9cffdc48cec4": {
          "model_module": "@jupyter-widgets/base",
          "model_name": "LayoutModel",
          "model_module_version": "1.2.0",
          "state": {
            "_view_name": "LayoutView",
            "grid_template_rows": null,
            "right": null,
            "justify_content": null,
            "_view_module": "@jupyter-widgets/base",
            "overflow": null,
            "_model_module_version": "1.2.0",
            "_view_count": null,
            "flex_flow": null,
            "width": null,
            "min_width": null,
            "border": null,
            "align_items": null,
            "bottom": null,
            "_model_module": "@jupyter-widgets/base",
            "top": null,
            "grid_column": null,
            "overflow_y": null,
            "overflow_x": null,
            "grid_auto_flow": null,
            "grid_area": null,
            "grid_template_columns": null,
            "flex": null,
            "_model_name": "LayoutModel",
            "justify_items": null,
            "grid_row": null,
            "max_height": null,
            "align_content": null,
            "visibility": null,
            "align_self": null,
            "height": null,
            "min_height": null,
            "padding": null,
            "grid_auto_rows": null,
            "grid_gap": null,
            "max_width": null,
            "order": null,
            "_view_module_version": "1.2.0",
            "grid_template_areas": null,
            "object_position": null,
            "object_fit": null,
            "grid_auto_columns": null,
            "margin": null,
            "display": null,
            "left": null
          }
        },
        "6341468f685945d8a3634598766f8b13": {
          "model_module": "@jupyter-widgets/controls",
          "model_name": "ProgressStyleModel",
          "model_module_version": "1.5.0",
          "state": {
            "_view_name": "StyleView",
            "_model_name": "ProgressStyleModel",
            "description_width": "",
            "_view_module": "@jupyter-widgets/base",
            "_model_module_version": "1.5.0",
            "_view_count": null,
            "_view_module_version": "1.2.0",
            "bar_color": null,
            "_model_module": "@jupyter-widgets/controls"
          }
        },
        "ae59c62c4aa94aa9a56fcca5e960cc9e": {
          "model_module": "@jupyter-widgets/base",
          "model_name": "LayoutModel",
          "model_module_version": "1.2.0",
          "state": {
            "_view_name": "LayoutView",
            "grid_template_rows": null,
            "right": null,
            "justify_content": null,
            "_view_module": "@jupyter-widgets/base",
            "overflow": null,
            "_model_module_version": "1.2.0",
            "_view_count": null,
            "flex_flow": null,
            "width": null,
            "min_width": null,
            "border": null,
            "align_items": null,
            "bottom": null,
            "_model_module": "@jupyter-widgets/base",
            "top": null,
            "grid_column": null,
            "overflow_y": null,
            "overflow_x": null,
            "grid_auto_flow": null,
            "grid_area": null,
            "grid_template_columns": null,
            "flex": null,
            "_model_name": "LayoutModel",
            "justify_items": null,
            "grid_row": null,
            "max_height": null,
            "align_content": null,
            "visibility": null,
            "align_self": null,
            "height": null,
            "min_height": null,
            "padding": null,
            "grid_auto_rows": null,
            "grid_gap": null,
            "max_width": null,
            "order": null,
            "_view_module_version": "1.2.0",
            "grid_template_areas": null,
            "object_position": null,
            "object_fit": null,
            "grid_auto_columns": null,
            "margin": null,
            "display": null,
            "left": null
          }
        },
        "f42607fca9374901b59178d1c997f404": {
          "model_module": "@jupyter-widgets/controls",
          "model_name": "VBoxModel",
          "model_module_version": "1.5.0",
          "state": {
            "_view_name": "VBoxView",
            "_dom_classes": [],
            "_model_name": "VBoxModel",
            "_view_module": "@jupyter-widgets/controls",
            "_model_module_version": "1.5.0",
            "_view_count": null,
            "_view_module_version": "1.5.0",
            "box_style": "",
            "layout": "IPY_MODEL_0e8bd428a7c24d59a33d865da0838de2",
            "_model_module": "@jupyter-widgets/controls",
            "children": [
              "IPY_MODEL_97c4feda9a4e43db9f752ae50aee8fef",
              "IPY_MODEL_91e619c855b94644a2d011212aaf9e41"
            ]
          }
        },
        "0e8bd428a7c24d59a33d865da0838de2": {
          "model_module": "@jupyter-widgets/base",
          "model_name": "LayoutModel",
          "model_module_version": "1.2.0",
          "state": {
            "_view_name": "LayoutView",
            "grid_template_rows": null,
            "right": null,
            "justify_content": null,
            "_view_module": "@jupyter-widgets/base",
            "overflow": null,
            "_model_module_version": "1.2.0",
            "_view_count": null,
            "flex_flow": null,
            "width": null,
            "min_width": null,
            "border": null,
            "align_items": null,
            "bottom": null,
            "_model_module": "@jupyter-widgets/base",
            "top": null,
            "grid_column": null,
            "overflow_y": null,
            "overflow_x": null,
            "grid_auto_flow": null,
            "grid_area": null,
            "grid_template_columns": null,
            "flex": null,
            "_model_name": "LayoutModel",
            "justify_items": null,
            "grid_row": null,
            "max_height": null,
            "align_content": null,
            "visibility": null,
            "align_self": null,
            "height": null,
            "min_height": null,
            "padding": null,
            "grid_auto_rows": null,
            "grid_gap": null,
            "max_width": null,
            "order": null,
            "_view_module_version": "1.2.0",
            "grid_template_areas": null,
            "object_position": null,
            "object_fit": null,
            "grid_auto_columns": null,
            "margin": null,
            "display": null,
            "left": null
          }
        },
        "97c4feda9a4e43db9f752ae50aee8fef": {
          "model_module": "@jupyter-widgets/controls",
          "model_name": "LabelModel",
          "model_module_version": "1.5.0",
          "state": {
            "_view_name": "LabelView",
            "style": "IPY_MODEL_5c6a8a2011b24a86a3137566dfe51ea2",
            "_dom_classes": [],
            "description": "",
            "_model_name": "LabelModel",
            "placeholder": "​",
            "_view_module": "@jupyter-widgets/controls",
            "_model_module_version": "1.5.0",
            "value": " 23.30MB of 23.30MB uploaded (0.00MB deduped)\r",
            "_view_count": null,
            "_view_module_version": "1.5.0",
            "description_tooltip": null,
            "_model_module": "@jupyter-widgets/controls",
            "layout": "IPY_MODEL_625b3450c85d4d85a0ebf7740070103e"
          }
        },
        "91e619c855b94644a2d011212aaf9e41": {
          "model_module": "@jupyter-widgets/controls",
          "model_name": "FloatProgressModel",
          "model_module_version": "1.5.0",
          "state": {
            "_view_name": "ProgressView",
            "style": "IPY_MODEL_7baccf755f1d4e75a2c7ee6dc70d0fb4",
            "_dom_classes": [],
            "description": "",
            "_model_name": "FloatProgressModel",
            "bar_style": "",
            "max": 1,
            "_view_module": "@jupyter-widgets/controls",
            "_model_module_version": "1.5.0",
            "value": 1,
            "_view_count": null,
            "_view_module_version": "1.5.0",
            "orientation": "horizontal",
            "min": 0,
            "description_tooltip": null,
            "_model_module": "@jupyter-widgets/controls",
            "layout": "IPY_MODEL_157838cccd174544bc5d549e0788cf52"
          }
        },
        "5c6a8a2011b24a86a3137566dfe51ea2": {
          "model_module": "@jupyter-widgets/controls",
          "model_name": "DescriptionStyleModel",
          "model_module_version": "1.5.0",
          "state": {
            "_view_name": "StyleView",
            "_model_name": "DescriptionStyleModel",
            "description_width": "",
            "_view_module": "@jupyter-widgets/base",
            "_model_module_version": "1.5.0",
            "_view_count": null,
            "_view_module_version": "1.2.0",
            "_model_module": "@jupyter-widgets/controls"
          }
        },
        "625b3450c85d4d85a0ebf7740070103e": {
          "model_module": "@jupyter-widgets/base",
          "model_name": "LayoutModel",
          "model_module_version": "1.2.0",
          "state": {
            "_view_name": "LayoutView",
            "grid_template_rows": null,
            "right": null,
            "justify_content": null,
            "_view_module": "@jupyter-widgets/base",
            "overflow": null,
            "_model_module_version": "1.2.0",
            "_view_count": null,
            "flex_flow": null,
            "width": null,
            "min_width": null,
            "border": null,
            "align_items": null,
            "bottom": null,
            "_model_module": "@jupyter-widgets/base",
            "top": null,
            "grid_column": null,
            "overflow_y": null,
            "overflow_x": null,
            "grid_auto_flow": null,
            "grid_area": null,
            "grid_template_columns": null,
            "flex": null,
            "_model_name": "LayoutModel",
            "justify_items": null,
            "grid_row": null,
            "max_height": null,
            "align_content": null,
            "visibility": null,
            "align_self": null,
            "height": null,
            "min_height": null,
            "padding": null,
            "grid_auto_rows": null,
            "grid_gap": null,
            "max_width": null,
            "order": null,
            "_view_module_version": "1.2.0",
            "grid_template_areas": null,
            "object_position": null,
            "object_fit": null,
            "grid_auto_columns": null,
            "margin": null,
            "display": null,
            "left": null
          }
        },
        "7baccf755f1d4e75a2c7ee6dc70d0fb4": {
          "model_module": "@jupyter-widgets/controls",
          "model_name": "ProgressStyleModel",
          "model_module_version": "1.5.0",
          "state": {
            "_view_name": "StyleView",
            "_model_name": "ProgressStyleModel",
            "description_width": "",
            "_view_module": "@jupyter-widgets/base",
            "_model_module_version": "1.5.0",
            "_view_count": null,
            "_view_module_version": "1.2.0",
            "bar_color": null,
            "_model_module": "@jupyter-widgets/controls"
          }
        },
        "157838cccd174544bc5d549e0788cf52": {
          "model_module": "@jupyter-widgets/base",
          "model_name": "LayoutModel",
          "model_module_version": "1.2.0",
          "state": {
            "_view_name": "LayoutView",
            "grid_template_rows": null,
            "right": null,
            "justify_content": null,
            "_view_module": "@jupyter-widgets/base",
            "overflow": null,
            "_model_module_version": "1.2.0",
            "_view_count": null,
            "flex_flow": null,
            "width": null,
            "min_width": null,
            "border": null,
            "align_items": null,
            "bottom": null,
            "_model_module": "@jupyter-widgets/base",
            "top": null,
            "grid_column": null,
            "overflow_y": null,
            "overflow_x": null,
            "grid_auto_flow": null,
            "grid_area": null,
            "grid_template_columns": null,
            "flex": null,
            "_model_name": "LayoutModel",
            "justify_items": null,
            "grid_row": null,
            "max_height": null,
            "align_content": null,
            "visibility": null,
            "align_self": null,
            "height": null,
            "min_height": null,
            "padding": null,
            "grid_auto_rows": null,
            "grid_gap": null,
            "max_width": null,
            "order": null,
            "_view_module_version": "1.2.0",
            "grid_template_areas": null,
            "object_position": null,
            "object_fit": null,
            "grid_auto_columns": null,
            "margin": null,
            "display": null,
            "left": null
          }
        },
        "a5b39243089548379a27a8aa988a4f77": {
          "model_module": "@jupyter-widgets/controls",
          "model_name": "VBoxModel",
          "model_module_version": "1.5.0",
          "state": {
            "_view_name": "VBoxView",
            "_dom_classes": [],
            "_model_name": "VBoxModel",
            "_view_module": "@jupyter-widgets/controls",
            "_model_module_version": "1.5.0",
            "_view_count": null,
            "_view_module_version": "1.5.0",
            "box_style": "",
            "layout": "IPY_MODEL_3e1c0a4f5a254be3970da7ffed1bee8d",
            "_model_module": "@jupyter-widgets/controls",
            "children": [
              "IPY_MODEL_e6b6d8e8e03f4a96af1c763ea8821f2b",
              "IPY_MODEL_a6718359754345b0b53a0c81198b75b1"
            ]
          }
        },
        "3e1c0a4f5a254be3970da7ffed1bee8d": {
          "model_module": "@jupyter-widgets/base",
          "model_name": "LayoutModel",
          "model_module_version": "1.2.0",
          "state": {
            "_view_name": "LayoutView",
            "grid_template_rows": null,
            "right": null,
            "justify_content": null,
            "_view_module": "@jupyter-widgets/base",
            "overflow": null,
            "_model_module_version": "1.2.0",
            "_view_count": null,
            "flex_flow": null,
            "width": null,
            "min_width": null,
            "border": null,
            "align_items": null,
            "bottom": null,
            "_model_module": "@jupyter-widgets/base",
            "top": null,
            "grid_column": null,
            "overflow_y": null,
            "overflow_x": null,
            "grid_auto_flow": null,
            "grid_area": null,
            "grid_template_columns": null,
            "flex": null,
            "_model_name": "LayoutModel",
            "justify_items": null,
            "grid_row": null,
            "max_height": null,
            "align_content": null,
            "visibility": null,
            "align_self": null,
            "height": null,
            "min_height": null,
            "padding": null,
            "grid_auto_rows": null,
            "grid_gap": null,
            "max_width": null,
            "order": null,
            "_view_module_version": "1.2.0",
            "grid_template_areas": null,
            "object_position": null,
            "object_fit": null,
            "grid_auto_columns": null,
            "margin": null,
            "display": null,
            "left": null
          }
        },
        "e6b6d8e8e03f4a96af1c763ea8821f2b": {
          "model_module": "@jupyter-widgets/controls",
          "model_name": "LabelModel",
          "model_module_version": "1.5.0",
          "state": {
            "_view_name": "LabelView",
            "style": "IPY_MODEL_01648ce803a445ebbadaef6e7f19606a",
            "_dom_classes": [],
            "description": "",
            "_model_name": "LabelModel",
            "placeholder": "​",
            "_view_module": "@jupyter-widgets/controls",
            "_model_module_version": "1.5.0",
            "value": " 23.30MB of 23.30MB uploaded (0.00MB deduped)\r",
            "_view_count": null,
            "_view_module_version": "1.5.0",
            "description_tooltip": null,
            "_model_module": "@jupyter-widgets/controls",
            "layout": "IPY_MODEL_2c538503f64547dfbd7df770c291c0ad"
          }
        },
        "a6718359754345b0b53a0c81198b75b1": {
          "model_module": "@jupyter-widgets/controls",
          "model_name": "FloatProgressModel",
          "model_module_version": "1.5.0",
          "state": {
            "_view_name": "ProgressView",
            "style": "IPY_MODEL_914b9ceb268c40e1b4d43facb64f3623",
            "_dom_classes": [],
            "description": "",
            "_model_name": "FloatProgressModel",
            "bar_style": "",
            "max": 1,
            "_view_module": "@jupyter-widgets/controls",
            "_model_module_version": "1.5.0",
            "value": 1,
            "_view_count": null,
            "_view_module_version": "1.5.0",
            "orientation": "horizontal",
            "min": 0,
            "description_tooltip": null,
            "_model_module": "@jupyter-widgets/controls",
            "layout": "IPY_MODEL_b02a717ce9ea4396ab62254b256668e0"
          }
        },
        "01648ce803a445ebbadaef6e7f19606a": {
          "model_module": "@jupyter-widgets/controls",
          "model_name": "DescriptionStyleModel",
          "model_module_version": "1.5.0",
          "state": {
            "_view_name": "StyleView",
            "_model_name": "DescriptionStyleModel",
            "description_width": "",
            "_view_module": "@jupyter-widgets/base",
            "_model_module_version": "1.5.0",
            "_view_count": null,
            "_view_module_version": "1.2.0",
            "_model_module": "@jupyter-widgets/controls"
          }
        },
        "2c538503f64547dfbd7df770c291c0ad": {
          "model_module": "@jupyter-widgets/base",
          "model_name": "LayoutModel",
          "model_module_version": "1.2.0",
          "state": {
            "_view_name": "LayoutView",
            "grid_template_rows": null,
            "right": null,
            "justify_content": null,
            "_view_module": "@jupyter-widgets/base",
            "overflow": null,
            "_model_module_version": "1.2.0",
            "_view_count": null,
            "flex_flow": null,
            "width": null,
            "min_width": null,
            "border": null,
            "align_items": null,
            "bottom": null,
            "_model_module": "@jupyter-widgets/base",
            "top": null,
            "grid_column": null,
            "overflow_y": null,
            "overflow_x": null,
            "grid_auto_flow": null,
            "grid_area": null,
            "grid_template_columns": null,
            "flex": null,
            "_model_name": "LayoutModel",
            "justify_items": null,
            "grid_row": null,
            "max_height": null,
            "align_content": null,
            "visibility": null,
            "align_self": null,
            "height": null,
            "min_height": null,
            "padding": null,
            "grid_auto_rows": null,
            "grid_gap": null,
            "max_width": null,
            "order": null,
            "_view_module_version": "1.2.0",
            "grid_template_areas": null,
            "object_position": null,
            "object_fit": null,
            "grid_auto_columns": null,
            "margin": null,
            "display": null,
            "left": null
          }
        },
        "914b9ceb268c40e1b4d43facb64f3623": {
          "model_module": "@jupyter-widgets/controls",
          "model_name": "ProgressStyleModel",
          "model_module_version": "1.5.0",
          "state": {
            "_view_name": "StyleView",
            "_model_name": "ProgressStyleModel",
            "description_width": "",
            "_view_module": "@jupyter-widgets/base",
            "_model_module_version": "1.5.0",
            "_view_count": null,
            "_view_module_version": "1.2.0",
            "bar_color": null,
            "_model_module": "@jupyter-widgets/controls"
          }
        },
        "b02a717ce9ea4396ab62254b256668e0": {
          "model_module": "@jupyter-widgets/base",
          "model_name": "LayoutModel",
          "model_module_version": "1.2.0",
          "state": {
            "_view_name": "LayoutView",
            "grid_template_rows": null,
            "right": null,
            "justify_content": null,
            "_view_module": "@jupyter-widgets/base",
            "overflow": null,
            "_model_module_version": "1.2.0",
            "_view_count": null,
            "flex_flow": null,
            "width": null,
            "min_width": null,
            "border": null,
            "align_items": null,
            "bottom": null,
            "_model_module": "@jupyter-widgets/base",
            "top": null,
            "grid_column": null,
            "overflow_y": null,
            "overflow_x": null,
            "grid_auto_flow": null,
            "grid_area": null,
            "grid_template_columns": null,
            "flex": null,
            "_model_name": "LayoutModel",
            "justify_items": null,
            "grid_row": null,
            "max_height": null,
            "align_content": null,
            "visibility": null,
            "align_self": null,
            "height": null,
            "min_height": null,
            "padding": null,
            "grid_auto_rows": null,
            "grid_gap": null,
            "max_width": null,
            "order": null,
            "_view_module_version": "1.2.0",
            "grid_template_areas": null,
            "object_position": null,
            "object_fit": null,
            "grid_auto_columns": null,
            "margin": null,
            "display": null,
            "left": null
          }
        },
        "cf2e0618581e402f8ee0d5c063a7d9a2": {
          "model_module": "@jupyter-widgets/controls",
          "model_name": "VBoxModel",
          "model_module_version": "1.5.0",
          "state": {
            "_view_name": "VBoxView",
            "_dom_classes": [],
            "_model_name": "VBoxModel",
            "_view_module": "@jupyter-widgets/controls",
            "_model_module_version": "1.5.0",
            "_view_count": null,
            "_view_module_version": "1.5.0",
            "box_style": "",
            "layout": "IPY_MODEL_f954a8fc4cbd4a3b9ee35f8fa99bb1d1",
            "_model_module": "@jupyter-widgets/controls",
            "children": [
              "IPY_MODEL_752dd7ac17b44c9aa8b10dacbfe0291a",
              "IPY_MODEL_2deb8e8273df4ab997bfc629da0fd839"
            ]
          }
        },
        "f954a8fc4cbd4a3b9ee35f8fa99bb1d1": {
          "model_module": "@jupyter-widgets/base",
          "model_name": "LayoutModel",
          "model_module_version": "1.2.0",
          "state": {
            "_view_name": "LayoutView",
            "grid_template_rows": null,
            "right": null,
            "justify_content": null,
            "_view_module": "@jupyter-widgets/base",
            "overflow": null,
            "_model_module_version": "1.2.0",
            "_view_count": null,
            "flex_flow": null,
            "width": null,
            "min_width": null,
            "border": null,
            "align_items": null,
            "bottom": null,
            "_model_module": "@jupyter-widgets/base",
            "top": null,
            "grid_column": null,
            "overflow_y": null,
            "overflow_x": null,
            "grid_auto_flow": null,
            "grid_area": null,
            "grid_template_columns": null,
            "flex": null,
            "_model_name": "LayoutModel",
            "justify_items": null,
            "grid_row": null,
            "max_height": null,
            "align_content": null,
            "visibility": null,
            "align_self": null,
            "height": null,
            "min_height": null,
            "padding": null,
            "grid_auto_rows": null,
            "grid_gap": null,
            "max_width": null,
            "order": null,
            "_view_module_version": "1.2.0",
            "grid_template_areas": null,
            "object_position": null,
            "object_fit": null,
            "grid_auto_columns": null,
            "margin": null,
            "display": null,
            "left": null
          }
        },
        "752dd7ac17b44c9aa8b10dacbfe0291a": {
          "model_module": "@jupyter-widgets/controls",
          "model_name": "LabelModel",
          "model_module_version": "1.5.0",
          "state": {
            "_view_name": "LabelView",
            "style": "IPY_MODEL_bc1d2c8b60af417bad87c220973810fd",
            "_dom_classes": [],
            "description": "",
            "_model_name": "LabelModel",
            "placeholder": "​",
            "_view_module": "@jupyter-widgets/controls",
            "_model_module_version": "1.5.0",
            "value": " 23.30MB of 23.30MB uploaded (0.00MB deduped)\r",
            "_view_count": null,
            "_view_module_version": "1.5.0",
            "description_tooltip": null,
            "_model_module": "@jupyter-widgets/controls",
            "layout": "IPY_MODEL_a5d112b7994c473dbf221ec83fadf603"
          }
        },
        "2deb8e8273df4ab997bfc629da0fd839": {
          "model_module": "@jupyter-widgets/controls",
          "model_name": "FloatProgressModel",
          "model_module_version": "1.5.0",
          "state": {
            "_view_name": "ProgressView",
            "style": "IPY_MODEL_9b83fb65facb44dd819efe26f2c2bac3",
            "_dom_classes": [],
            "description": "",
            "_model_name": "FloatProgressModel",
            "bar_style": "",
            "max": 1,
            "_view_module": "@jupyter-widgets/controls",
            "_model_module_version": "1.5.0",
            "value": 1,
            "_view_count": null,
            "_view_module_version": "1.5.0",
            "orientation": "horizontal",
            "min": 0,
            "description_tooltip": null,
            "_model_module": "@jupyter-widgets/controls",
            "layout": "IPY_MODEL_7cf6664065574271bf2a4e3f77eb10b3"
          }
        },
        "bc1d2c8b60af417bad87c220973810fd": {
          "model_module": "@jupyter-widgets/controls",
          "model_name": "DescriptionStyleModel",
          "model_module_version": "1.5.0",
          "state": {
            "_view_name": "StyleView",
            "_model_name": "DescriptionStyleModel",
            "description_width": "",
            "_view_module": "@jupyter-widgets/base",
            "_model_module_version": "1.5.0",
            "_view_count": null,
            "_view_module_version": "1.2.0",
            "_model_module": "@jupyter-widgets/controls"
          }
        },
        "a5d112b7994c473dbf221ec83fadf603": {
          "model_module": "@jupyter-widgets/base",
          "model_name": "LayoutModel",
          "model_module_version": "1.2.0",
          "state": {
            "_view_name": "LayoutView",
            "grid_template_rows": null,
            "right": null,
            "justify_content": null,
            "_view_module": "@jupyter-widgets/base",
            "overflow": null,
            "_model_module_version": "1.2.0",
            "_view_count": null,
            "flex_flow": null,
            "width": null,
            "min_width": null,
            "border": null,
            "align_items": null,
            "bottom": null,
            "_model_module": "@jupyter-widgets/base",
            "top": null,
            "grid_column": null,
            "overflow_y": null,
            "overflow_x": null,
            "grid_auto_flow": null,
            "grid_area": null,
            "grid_template_columns": null,
            "flex": null,
            "_model_name": "LayoutModel",
            "justify_items": null,
            "grid_row": null,
            "max_height": null,
            "align_content": null,
            "visibility": null,
            "align_self": null,
            "height": null,
            "min_height": null,
            "padding": null,
            "grid_auto_rows": null,
            "grid_gap": null,
            "max_width": null,
            "order": null,
            "_view_module_version": "1.2.0",
            "grid_template_areas": null,
            "object_position": null,
            "object_fit": null,
            "grid_auto_columns": null,
            "margin": null,
            "display": null,
            "left": null
          }
        },
        "9b83fb65facb44dd819efe26f2c2bac3": {
          "model_module": "@jupyter-widgets/controls",
          "model_name": "ProgressStyleModel",
          "model_module_version": "1.5.0",
          "state": {
            "_view_name": "StyleView",
            "_model_name": "ProgressStyleModel",
            "description_width": "",
            "_view_module": "@jupyter-widgets/base",
            "_model_module_version": "1.5.0",
            "_view_count": null,
            "_view_module_version": "1.2.0",
            "bar_color": null,
            "_model_module": "@jupyter-widgets/controls"
          }
        },
        "7cf6664065574271bf2a4e3f77eb10b3": {
          "model_module": "@jupyter-widgets/base",
          "model_name": "LayoutModel",
          "model_module_version": "1.2.0",
          "state": {
            "_view_name": "LayoutView",
            "grid_template_rows": null,
            "right": null,
            "justify_content": null,
            "_view_module": "@jupyter-widgets/base",
            "overflow": null,
            "_model_module_version": "1.2.0",
            "_view_count": null,
            "flex_flow": null,
            "width": null,
            "min_width": null,
            "border": null,
            "align_items": null,
            "bottom": null,
            "_model_module": "@jupyter-widgets/base",
            "top": null,
            "grid_column": null,
            "overflow_y": null,
            "overflow_x": null,
            "grid_auto_flow": null,
            "grid_area": null,
            "grid_template_columns": null,
            "flex": null,
            "_model_name": "LayoutModel",
            "justify_items": null,
            "grid_row": null,
            "max_height": null,
            "align_content": null,
            "visibility": null,
            "align_self": null,
            "height": null,
            "min_height": null,
            "padding": null,
            "grid_auto_rows": null,
            "grid_gap": null,
            "max_width": null,
            "order": null,
            "_view_module_version": "1.2.0",
            "grid_template_areas": null,
            "object_position": null,
            "object_fit": null,
            "grid_auto_columns": null,
            "margin": null,
            "display": null,
            "left": null
          }
        },
        "d4b4113827c84e35b96f360d8b4cee0d": {
          "model_module": "@jupyter-widgets/controls",
          "model_name": "VBoxModel",
          "model_module_version": "1.5.0",
          "state": {
            "_view_name": "VBoxView",
            "_dom_classes": [],
            "_model_name": "VBoxModel",
            "_view_module": "@jupyter-widgets/controls",
            "_model_module_version": "1.5.0",
            "_view_count": null,
            "_view_module_version": "1.5.0",
            "box_style": "",
            "layout": "IPY_MODEL_4937e7cb512e453e9b93d48dc8693f8c",
            "_model_module": "@jupyter-widgets/controls",
            "children": [
              "IPY_MODEL_0388192f86f843a9bda825c8c3161bb0",
              "IPY_MODEL_b6de9a9384c04e66a5ec71915ed3144e"
            ]
          }
        },
        "4937e7cb512e453e9b93d48dc8693f8c": {
          "model_module": "@jupyter-widgets/base",
          "model_name": "LayoutModel",
          "model_module_version": "1.2.0",
          "state": {
            "_view_name": "LayoutView",
            "grid_template_rows": null,
            "right": null,
            "justify_content": null,
            "_view_module": "@jupyter-widgets/base",
            "overflow": null,
            "_model_module_version": "1.2.0",
            "_view_count": null,
            "flex_flow": null,
            "width": null,
            "min_width": null,
            "border": null,
            "align_items": null,
            "bottom": null,
            "_model_module": "@jupyter-widgets/base",
            "top": null,
            "grid_column": null,
            "overflow_y": null,
            "overflow_x": null,
            "grid_auto_flow": null,
            "grid_area": null,
            "grid_template_columns": null,
            "flex": null,
            "_model_name": "LayoutModel",
            "justify_items": null,
            "grid_row": null,
            "max_height": null,
            "align_content": null,
            "visibility": null,
            "align_self": null,
            "height": null,
            "min_height": null,
            "padding": null,
            "grid_auto_rows": null,
            "grid_gap": null,
            "max_width": null,
            "order": null,
            "_view_module_version": "1.2.0",
            "grid_template_areas": null,
            "object_position": null,
            "object_fit": null,
            "grid_auto_columns": null,
            "margin": null,
            "display": null,
            "left": null
          }
        },
        "0388192f86f843a9bda825c8c3161bb0": {
          "model_module": "@jupyter-widgets/controls",
          "model_name": "LabelModel",
          "model_module_version": "1.5.0",
          "state": {
            "_view_name": "LabelView",
            "style": "IPY_MODEL_788c0c1aac704630ac3e9fca9cd06879",
            "_dom_classes": [],
            "description": "",
            "_model_name": "LabelModel",
            "placeholder": "​",
            "_view_module": "@jupyter-widgets/controls",
            "_model_module_version": "1.5.0",
            "value": " 23.30MB of 23.30MB uploaded (0.00MB deduped)\r",
            "_view_count": null,
            "_view_module_version": "1.5.0",
            "description_tooltip": null,
            "_model_module": "@jupyter-widgets/controls",
            "layout": "IPY_MODEL_c2a8ec90b27a493a978a0223d76f1062"
          }
        },
        "b6de9a9384c04e66a5ec71915ed3144e": {
          "model_module": "@jupyter-widgets/controls",
          "model_name": "FloatProgressModel",
          "model_module_version": "1.5.0",
          "state": {
            "_view_name": "ProgressView",
            "style": "IPY_MODEL_5ed65f1885914bbcbb5f9ec78c01b6ec",
            "_dom_classes": [],
            "description": "",
            "_model_name": "FloatProgressModel",
            "bar_style": "",
            "max": 1,
            "_view_module": "@jupyter-widgets/controls",
            "_model_module_version": "1.5.0",
            "value": 1,
            "_view_count": null,
            "_view_module_version": "1.5.0",
            "orientation": "horizontal",
            "min": 0,
            "description_tooltip": null,
            "_model_module": "@jupyter-widgets/controls",
            "layout": "IPY_MODEL_42db6e825b4a4932b9fa86a64aa7620d"
          }
        },
        "788c0c1aac704630ac3e9fca9cd06879": {
          "model_module": "@jupyter-widgets/controls",
          "model_name": "DescriptionStyleModel",
          "model_module_version": "1.5.0",
          "state": {
            "_view_name": "StyleView",
            "_model_name": "DescriptionStyleModel",
            "description_width": "",
            "_view_module": "@jupyter-widgets/base",
            "_model_module_version": "1.5.0",
            "_view_count": null,
            "_view_module_version": "1.2.0",
            "_model_module": "@jupyter-widgets/controls"
          }
        },
        "c2a8ec90b27a493a978a0223d76f1062": {
          "model_module": "@jupyter-widgets/base",
          "model_name": "LayoutModel",
          "model_module_version": "1.2.0",
          "state": {
            "_view_name": "LayoutView",
            "grid_template_rows": null,
            "right": null,
            "justify_content": null,
            "_view_module": "@jupyter-widgets/base",
            "overflow": null,
            "_model_module_version": "1.2.0",
            "_view_count": null,
            "flex_flow": null,
            "width": null,
            "min_width": null,
            "border": null,
            "align_items": null,
            "bottom": null,
            "_model_module": "@jupyter-widgets/base",
            "top": null,
            "grid_column": null,
            "overflow_y": null,
            "overflow_x": null,
            "grid_auto_flow": null,
            "grid_area": null,
            "grid_template_columns": null,
            "flex": null,
            "_model_name": "LayoutModel",
            "justify_items": null,
            "grid_row": null,
            "max_height": null,
            "align_content": null,
            "visibility": null,
            "align_self": null,
            "height": null,
            "min_height": null,
            "padding": null,
            "grid_auto_rows": null,
            "grid_gap": null,
            "max_width": null,
            "order": null,
            "_view_module_version": "1.2.0",
            "grid_template_areas": null,
            "object_position": null,
            "object_fit": null,
            "grid_auto_columns": null,
            "margin": null,
            "display": null,
            "left": null
          }
        },
        "5ed65f1885914bbcbb5f9ec78c01b6ec": {
          "model_module": "@jupyter-widgets/controls",
          "model_name": "ProgressStyleModel",
          "model_module_version": "1.5.0",
          "state": {
            "_view_name": "StyleView",
            "_model_name": "ProgressStyleModel",
            "description_width": "",
            "_view_module": "@jupyter-widgets/base",
            "_model_module_version": "1.5.0",
            "_view_count": null,
            "_view_module_version": "1.2.0",
            "bar_color": null,
            "_model_module": "@jupyter-widgets/controls"
          }
        },
        "42db6e825b4a4932b9fa86a64aa7620d": {
          "model_module": "@jupyter-widgets/base",
          "model_name": "LayoutModel",
          "model_module_version": "1.2.0",
          "state": {
            "_view_name": "LayoutView",
            "grid_template_rows": null,
            "right": null,
            "justify_content": null,
            "_view_module": "@jupyter-widgets/base",
            "overflow": null,
            "_model_module_version": "1.2.0",
            "_view_count": null,
            "flex_flow": null,
            "width": null,
            "min_width": null,
            "border": null,
            "align_items": null,
            "bottom": null,
            "_model_module": "@jupyter-widgets/base",
            "top": null,
            "grid_column": null,
            "overflow_y": null,
            "overflow_x": null,
            "grid_auto_flow": null,
            "grid_area": null,
            "grid_template_columns": null,
            "flex": null,
            "_model_name": "LayoutModel",
            "justify_items": null,
            "grid_row": null,
            "max_height": null,
            "align_content": null,
            "visibility": null,
            "align_self": null,
            "height": null,
            "min_height": null,
            "padding": null,
            "grid_auto_rows": null,
            "grid_gap": null,
            "max_width": null,
            "order": null,
            "_view_module_version": "1.2.0",
            "grid_template_areas": null,
            "object_position": null,
            "object_fit": null,
            "grid_auto_columns": null,
            "margin": null,
            "display": null,
            "left": null
          }
        },
        "015dc46536e0450abd97e2fe39eaa8c5": {
          "model_module": "@jupyter-widgets/controls",
          "model_name": "VBoxModel",
          "model_module_version": "1.5.0",
          "state": {
            "_view_name": "VBoxView",
            "_dom_classes": [],
            "_model_name": "VBoxModel",
            "_view_module": "@jupyter-widgets/controls",
            "_model_module_version": "1.5.0",
            "_view_count": null,
            "_view_module_version": "1.5.0",
            "box_style": "",
            "layout": "IPY_MODEL_0840eca04e2647c68f7fa6496a78bdde",
            "_model_module": "@jupyter-widgets/controls",
            "children": [
              "IPY_MODEL_c0484ce5102f47dca3fa71cc06cafd02",
              "IPY_MODEL_68e40950a30c48d0838b120a64ca8636"
            ]
          }
        },
        "0840eca04e2647c68f7fa6496a78bdde": {
          "model_module": "@jupyter-widgets/base",
          "model_name": "LayoutModel",
          "model_module_version": "1.2.0",
          "state": {
            "_view_name": "LayoutView",
            "grid_template_rows": null,
            "right": null,
            "justify_content": null,
            "_view_module": "@jupyter-widgets/base",
            "overflow": null,
            "_model_module_version": "1.2.0",
            "_view_count": null,
            "flex_flow": null,
            "width": null,
            "min_width": null,
            "border": null,
            "align_items": null,
            "bottom": null,
            "_model_module": "@jupyter-widgets/base",
            "top": null,
            "grid_column": null,
            "overflow_y": null,
            "overflow_x": null,
            "grid_auto_flow": null,
            "grid_area": null,
            "grid_template_columns": null,
            "flex": null,
            "_model_name": "LayoutModel",
            "justify_items": null,
            "grid_row": null,
            "max_height": null,
            "align_content": null,
            "visibility": null,
            "align_self": null,
            "height": null,
            "min_height": null,
            "padding": null,
            "grid_auto_rows": null,
            "grid_gap": null,
            "max_width": null,
            "order": null,
            "_view_module_version": "1.2.0",
            "grid_template_areas": null,
            "object_position": null,
            "object_fit": null,
            "grid_auto_columns": null,
            "margin": null,
            "display": null,
            "left": null
          }
        },
        "c0484ce5102f47dca3fa71cc06cafd02": {
          "model_module": "@jupyter-widgets/controls",
          "model_name": "LabelModel",
          "model_module_version": "1.5.0",
          "state": {
            "_view_name": "LabelView",
            "style": "IPY_MODEL_2d8fa2a133be4e149c9ad46db4dec026",
            "_dom_classes": [],
            "description": "",
            "_model_name": "LabelModel",
            "placeholder": "​",
            "_view_module": "@jupyter-widgets/controls",
            "_model_module_version": "1.5.0",
            "value": " 45.04MB of 45.04MB uploaded (0.00MB deduped)\r",
            "_view_count": null,
            "_view_module_version": "1.5.0",
            "description_tooltip": null,
            "_model_module": "@jupyter-widgets/controls",
            "layout": "IPY_MODEL_0606683e1f8349a0b31ad90fd85d3b14"
          }
        },
        "68e40950a30c48d0838b120a64ca8636": {
          "model_module": "@jupyter-widgets/controls",
          "model_name": "FloatProgressModel",
          "model_module_version": "1.5.0",
          "state": {
            "_view_name": "ProgressView",
            "style": "IPY_MODEL_26d8dd021c2e43b5b56892082271c1b0",
            "_dom_classes": [],
            "description": "",
            "_model_name": "FloatProgressModel",
            "bar_style": "",
            "max": 1,
            "_view_module": "@jupyter-widgets/controls",
            "_model_module_version": "1.5.0",
            "value": 1,
            "_view_count": null,
            "_view_module_version": "1.5.0",
            "orientation": "horizontal",
            "min": 0,
            "description_tooltip": null,
            "_model_module": "@jupyter-widgets/controls",
            "layout": "IPY_MODEL_0eadff6fd46e42359ceb4f8e3ca28ccd"
          }
        },
        "2d8fa2a133be4e149c9ad46db4dec026": {
          "model_module": "@jupyter-widgets/controls",
          "model_name": "DescriptionStyleModel",
          "model_module_version": "1.5.0",
          "state": {
            "_view_name": "StyleView",
            "_model_name": "DescriptionStyleModel",
            "description_width": "",
            "_view_module": "@jupyter-widgets/base",
            "_model_module_version": "1.5.0",
            "_view_count": null,
            "_view_module_version": "1.2.0",
            "_model_module": "@jupyter-widgets/controls"
          }
        },
        "0606683e1f8349a0b31ad90fd85d3b14": {
          "model_module": "@jupyter-widgets/base",
          "model_name": "LayoutModel",
          "model_module_version": "1.2.0",
          "state": {
            "_view_name": "LayoutView",
            "grid_template_rows": null,
            "right": null,
            "justify_content": null,
            "_view_module": "@jupyter-widgets/base",
            "overflow": null,
            "_model_module_version": "1.2.0",
            "_view_count": null,
            "flex_flow": null,
            "width": null,
            "min_width": null,
            "border": null,
            "align_items": null,
            "bottom": null,
            "_model_module": "@jupyter-widgets/base",
            "top": null,
            "grid_column": null,
            "overflow_y": null,
            "overflow_x": null,
            "grid_auto_flow": null,
            "grid_area": null,
            "grid_template_columns": null,
            "flex": null,
            "_model_name": "LayoutModel",
            "justify_items": null,
            "grid_row": null,
            "max_height": null,
            "align_content": null,
            "visibility": null,
            "align_self": null,
            "height": null,
            "min_height": null,
            "padding": null,
            "grid_auto_rows": null,
            "grid_gap": null,
            "max_width": null,
            "order": null,
            "_view_module_version": "1.2.0",
            "grid_template_areas": null,
            "object_position": null,
            "object_fit": null,
            "grid_auto_columns": null,
            "margin": null,
            "display": null,
            "left": null
          }
        },
        "26d8dd021c2e43b5b56892082271c1b0": {
          "model_module": "@jupyter-widgets/controls",
          "model_name": "ProgressStyleModel",
          "model_module_version": "1.5.0",
          "state": {
            "_view_name": "StyleView",
            "_model_name": "ProgressStyleModel",
            "description_width": "",
            "_view_module": "@jupyter-widgets/base",
            "_model_module_version": "1.5.0",
            "_view_count": null,
            "_view_module_version": "1.2.0",
            "bar_color": null,
            "_model_module": "@jupyter-widgets/controls"
          }
        },
        "0eadff6fd46e42359ceb4f8e3ca28ccd": {
          "model_module": "@jupyter-widgets/base",
          "model_name": "LayoutModel",
          "model_module_version": "1.2.0",
          "state": {
            "_view_name": "LayoutView",
            "grid_template_rows": null,
            "right": null,
            "justify_content": null,
            "_view_module": "@jupyter-widgets/base",
            "overflow": null,
            "_model_module_version": "1.2.0",
            "_view_count": null,
            "flex_flow": null,
            "width": null,
            "min_width": null,
            "border": null,
            "align_items": null,
            "bottom": null,
            "_model_module": "@jupyter-widgets/base",
            "top": null,
            "grid_column": null,
            "overflow_y": null,
            "overflow_x": null,
            "grid_auto_flow": null,
            "grid_area": null,
            "grid_template_columns": null,
            "flex": null,
            "_model_name": "LayoutModel",
            "justify_items": null,
            "grid_row": null,
            "max_height": null,
            "align_content": null,
            "visibility": null,
            "align_self": null,
            "height": null,
            "min_height": null,
            "padding": null,
            "grid_auto_rows": null,
            "grid_gap": null,
            "max_width": null,
            "order": null,
            "_view_module_version": "1.2.0",
            "grid_template_areas": null,
            "object_position": null,
            "object_fit": null,
            "grid_auto_columns": null,
            "margin": null,
            "display": null,
            "left": null
          }
        }
      }
    }
  },
  "cells": [
    {
      "cell_type": "code",
      "source": [
        "!pip install wandb"
      ],
      "metadata": {
        "colab": {
          "base_uri": "https://localhost:8080/"
        },
        "id": "yRUCgU0WgcIa",
        "outputId": "c8aac404-32fc-4fba-a620-93253da79092"
      },
      "execution_count": null,
      "outputs": [
        {
          "output_type": "stream",
          "name": "stdout",
          "text": [
            "Requirement already satisfied: wandb in /usr/local/lib/python3.7/dist-packages (0.12.9)\n",
            "Requirement already satisfied: promise<3,>=2.0 in /usr/local/lib/python3.7/dist-packages (from wandb) (2.3)\n",
            "Requirement already satisfied: subprocess32>=3.5.3 in /usr/local/lib/python3.7/dist-packages (from wandb) (3.5.4)\n",
            "Requirement already satisfied: docker-pycreds>=0.4.0 in /usr/local/lib/python3.7/dist-packages (from wandb) (0.4.0)\n",
            "Requirement already satisfied: sentry-sdk>=1.0.0 in /usr/local/lib/python3.7/dist-packages (from wandb) (1.5.2)\n",
            "Requirement already satisfied: GitPython>=1.0.0 in /usr/local/lib/python3.7/dist-packages (from wandb) (3.1.26)\n",
            "Requirement already satisfied: yaspin>=1.0.0 in /usr/local/lib/python3.7/dist-packages (from wandb) (2.1.0)\n",
            "Requirement already satisfied: configparser>=3.8.1 in /usr/local/lib/python3.7/dist-packages (from wandb) (5.2.0)\n",
            "Requirement already satisfied: shortuuid>=0.5.0 in /usr/local/lib/python3.7/dist-packages (from wandb) (1.0.8)\n",
            "Requirement already satisfied: protobuf>=3.12.0 in /usr/local/lib/python3.7/dist-packages (from wandb) (3.17.3)\n",
            "Requirement already satisfied: six>=1.13.0 in /usr/local/lib/python3.7/dist-packages (from wandb) (1.15.0)\n",
            "Requirement already satisfied: psutil>=5.0.0 in /usr/local/lib/python3.7/dist-packages (from wandb) (5.4.8)\n",
            "Requirement already satisfied: Click!=8.0.0,>=7.0 in /usr/local/lib/python3.7/dist-packages (from wandb) (7.1.2)\n",
            "Requirement already satisfied: PyYAML in /usr/local/lib/python3.7/dist-packages (from wandb) (3.13)\n",
            "Requirement already satisfied: requests<3,>=2.0.0 in /usr/local/lib/python3.7/dist-packages (from wandb) (2.23.0)\n",
            "Requirement already satisfied: pathtools in /usr/local/lib/python3.7/dist-packages (from wandb) (0.1.2)\n",
            "Requirement already satisfied: python-dateutil>=2.6.1 in /usr/local/lib/python3.7/dist-packages (from wandb) (2.8.2)\n",
            "Requirement already satisfied: gitdb<5,>=4.0.1 in /usr/local/lib/python3.7/dist-packages (from GitPython>=1.0.0->wandb) (4.0.9)\n",
            "Requirement already satisfied: typing-extensions>=3.7.4.3 in /usr/local/lib/python3.7/dist-packages (from GitPython>=1.0.0->wandb) (3.10.0.2)\n",
            "Requirement already satisfied: smmap<6,>=3.0.1 in /usr/local/lib/python3.7/dist-packages (from gitdb<5,>=4.0.1->GitPython>=1.0.0->wandb) (5.0.0)\n",
            "Requirement already satisfied: certifi>=2017.4.17 in /usr/local/lib/python3.7/dist-packages (from requests<3,>=2.0.0->wandb) (2021.10.8)\n",
            "Requirement already satisfied: chardet<4,>=3.0.2 in /usr/local/lib/python3.7/dist-packages (from requests<3,>=2.0.0->wandb) (3.0.4)\n",
            "Requirement already satisfied: urllib3!=1.25.0,!=1.25.1,<1.26,>=1.21.1 in /usr/local/lib/python3.7/dist-packages (from requests<3,>=2.0.0->wandb) (1.24.3)\n",
            "Requirement already satisfied: idna<3,>=2.5 in /usr/local/lib/python3.7/dist-packages (from requests<3,>=2.0.0->wandb) (2.10)\n",
            "Requirement already satisfied: termcolor<2.0.0,>=1.1.0 in /usr/local/lib/python3.7/dist-packages (from yaspin>=1.0.0->wandb) (1.1.0)\n"
          ]
        }
      ]
    },
    {
      "cell_type": "code",
      "source": [
        "# using the wandb\n",
        "import wandb\n",
        "from wandb.keras import WandbCallback"
      ],
      "metadata": {
        "id": "RjhJKtQyBvMM"
      },
      "execution_count": null,
      "outputs": []
    },
    {
      "cell_type": "markdown",
      "source": [
        "# Step 0: Init the AutoML program\n",
        "\n",
        "Run the cell to import necessary modules and training code."
      ],
      "metadata": {
        "id": "yxOYA7t2ZVqw"
      }
    },
    {
      "cell_type": "code",
      "execution_count": null,
      "metadata": {
        "id": "0u9W76KIZKGx"
      },
      "outputs": [],
      "source": [
        "import numpy as np\n",
        "import os\n",
        "import contextlib\n",
        "import tensorflow as tf\n",
        "import tempfile\n",
        "import shutil\n",
        "import zipfile\n",
        "from PIL import Image\n",
        "import numpy as np\n",
        "import zipfile\n",
        "\n",
        "\n",
        "@contextlib.contextmanager\n",
        "def _tempdir():\n",
        "    dirpath = tempfile.mkdtemp()\n",
        "    yield dirpath\n",
        "    shutil.rmtree(dirpath)\n",
        "\n",
        "\n",
        "class ImageClassifier:\n",
        "    def __init__(self):\n",
        "        self.model = None\n",
        "        self.image_size = None\n",
        "        self.class_names = None\n",
        "\n",
        "    def train(self, dataset_dir, batch_size=32, epochs=1, image_size=(160, 160), learning_rate=0.0001):\n",
        "        # Step1: Data prep\n",
        "        train_dataset = tf.keras.utils.image_dataset_from_directory(dataset_dir,\n",
        "                                                                    seed=1337,\n",
        "                                                                    validation_split=0.2,\n",
        "                                                                    batch_size=batch_size,\n",
        "                                                                    subset='training',\n",
        "                                                                    image_size=image_size)\n",
        "        validation_dataset = tf.keras.utils.image_dataset_from_directory(dataset_dir,\n",
        "                                                                         seed=1337,\n",
        "                                                                         validation_split=0.2,\n",
        "                                                                         batch_size=batch_size,\n",
        "                                                                         subset='validation',\n",
        "                                                                         image_size=image_size)\n",
        "        class_names = train_dataset.class_names\n",
        "\n",
        "        print('Number of trian batches: %d' %\n",
        "              tf.data.experimental.cardinality(train_dataset))\n",
        "        print('Number of validation batches: %d' %\n",
        "              tf.data.experimental.cardinality(validation_dataset))\n",
        "        train_dataset = train_dataset.prefetch(buffer_size=tf.data.AUTOTUNE)\n",
        "        validation_dataset = validation_dataset.prefetch(\n",
        "            buffer_size=tf.data.AUTOTUNE)\n",
        "\n",
        "        # Step2: Model Architecture\n",
        "\n",
        "        # Skip the data_augmentation because\n",
        "        # https://stackoverflow.com/questions/69955838/saving-model-on-tensorflow-2-7-0-with-data-augmentation-layer\n",
        "        #\n",
        "        # data_augmentation = tf.keras.Sequential([\n",
        "        #     tf.keras.layers.RandomFlip('horizontal'),\n",
        "        #     tf.keras.layers.RandomRotation(0.2),\n",
        "        # ])\n",
        "        preprocess_input = tf.keras.applications.mobilenet_v2.preprocess_input\n",
        "        image_shape = image_size + (3,)\n",
        "        base_model = tf.keras.applications.MobileNetV2(input_shape=image_shape,\n",
        "                                                       include_top=False,\n",
        "                                                       weights='imagenet')\n",
        "        base_model.trainable = True\n",
        "        fine_tune_at = 100\n",
        "        for layer in base_model.layers[:fine_tune_at]:\n",
        "            layer.trainable = False\n",
        "\n",
        "        global_average_layer = tf.keras.layers.GlobalAveragePooling2D()\n",
        "        inputs = tf.keras.Input(shape=image_shape)\n",
        "        x = inputs\n",
        "        # x = data_augmentation(x)\n",
        "        x = preprocess_input(x)\n",
        "        x = base_model(x, training=False)\n",
        "        x = global_average_layer(x)\n",
        "        x = tf.keras.layers.Dropout(0.2)(x)\n",
        "        x = tf.keras.layers.Dense(len(class_names))(x)\n",
        "        outputs = tf.nn.softmax(x)\n",
        "        model = tf.keras.Model(inputs, outputs)\n",
        "        model.compile(optimizer=tf.keras.optimizers.Adam(learning_rate=learning_rate),\n",
        "                      loss=tf.keras.losses.SparseCategoricalCrossentropy(\n",
        "            from_logits=False),\n",
        "            metrics=['accuracy'])\n",
        "        model.summary()\n",
        "\n",
        "        # Step 3: Start training\n",
        "        history = model.fit(train_dataset,\n",
        "                            epochs=epochs,\n",
        "                            validation_data=validation_dataset, callbacks=[WandbCallback()])\n",
        "\n",
        "        # Step 4: Evaluation\n",
        "        if validation_dataset:\n",
        "            loss, accuracy = model.evaluate(validation_dataset)\n",
        "            # wandb.log({'accuracy': accuracy, 'loss': loss})\n",
        "\n",
        "            print('Test accuracy :', accuracy)\n",
        "\n",
        "            # Retrieve a batch of images from the test set\n",
        "            image_batch, label_batch = validation_dataset.as_numpy_iterator().next()\n",
        "            predictions = model.predict_on_batch(image_batch)\n",
        "\n",
        "            # Apply softmax and argmax to find the most possible class\n",
        "            predictions = model.predict_on_batch(image_batch)\n",
        "            predictions = tf.math.argmax(predictions, axis=-1)\n",
        "            print('Predictions:\\n', predictions.numpy())\n",
        "            print('Labels:\\n', label_batch)\n",
        "\n",
        "        self.model = model\n",
        "        self.class_names = class_names\n",
        "        self.image_size = (160, 160)\n",
        "        image_size = (160, 160)\n",
        "\n",
        "        return history\n",
        "\n",
        "    def save(self, modelfile):\n",
        "        with _tempdir() as modelpath:\n",
        "            self.model.save(modelpath)\n",
        "            with open(f'{modelpath}/class_names.txt', 'w') as f:\n",
        "                for class_name in self.class_names:\n",
        "                    print(class_name, file=f)\n",
        "\n",
        "            with zipfile.ZipFile(modelfile, 'w', zipfile.ZIP_DEFLATED) as zf:\n",
        "                for dirname, subdirs, files in os.walk(modelpath):\n",
        "                    arc_dirname = dirname[len(modelpath):]\n",
        "                    print(f'dir : {arc_dirname}/')\n",
        "                    zf.write(dirname, arc_dirname)\n",
        "                    for filename in files:\n",
        "                        print(f'file: {arc_dirname}/{filename}')\n",
        "                        zf.write(os.path.join(dirname, filename),\n",
        "                                 os.path.join(arc_dirname, filename))\n",
        "\n",
        "    def load(self, modelfile):\n",
        "        with _tempdir() as dirpath:\n",
        "            with zipfile.ZipFile(modelfile, 'r') as zip_ref:\n",
        "                zip_ref.extractall(dirpath)\n",
        "            model = tf.keras.models.load_model(dirpath)\n",
        "            with open(f\"{dirpath}/class_names.txt\") as f:\n",
        "                class_names = f.readlines()\n",
        "            class_names = [class_name.strip() for class_name in class_names]\n",
        "\n",
        "        self.image_size = (160, 160)\n",
        "        self.class_names = (class_names)\n",
        "        self.model = model\n",
        "\n",
        "    def predict(self, img_path):\n",
        "        with Image.open(img_path) as image:\n",
        "            image = image.resize(self.image_size).convert(\"RGB\")\n",
        "            x = tf.keras.preprocessing.image.img_to_array(image)\n",
        "            x = tf.expand_dims(x, 0)\n",
        "        result = self.model(x)\n",
        "        result = tf.squeeze(result)\n",
        "        cls_idx = int(tf.math.argmax(result, axis=-1))\n",
        "        cls = self.class_names[cls_idx]\n",
        "        return (cls, result.numpy())\n",
        "\n",
        "    def predict_img(self, image):\n",
        "        image = image.resize(self.image_size).convert(\"RGB\")\n",
        "        x = tf.keras.preprocessing.image.img_to_array(image)\n",
        "        x = tf.expand_dims(x, 0)\n",
        "        result = self.model(x)\n",
        "        result = tf.squeeze(result)\n",
        "        cls_idx = int(tf.math.argmax(result, axis=-1))\n",
        "        cls = self.class_names[cls_idx]\n",
        "        return (cls, result.numpy())\n"
      ]
    },
    {
      "cell_type": "markdown",
      "source": [
        "# Step 1: Prepare the dataset\n",
        "\n",
        "The dataset should be a 'zip' file with the following format.\n",
        "\n",
        "```\n",
        "flowers_photos/\n",
        "  daisy/\n",
        "  dandelion/\n",
        "  roses/\n",
        "  sunflowers/\n",
        "  tulips/\n",
        "```  \n",
        "\n",
        "Please see the document in tensorflow\n",
        "https://www.tensorflow.org/tutorials/load_data/images\n",
        "\n",
        "\n",
        "There are two way to prepare the dataset\n",
        "\n",
        "1. Download the example dataset\n",
        "1. Use your own dataset\n",
        "\n",
        "After the step 1, the variable of `dataset_dir` should be set as the directory of your dataset."
      ],
      "metadata": {
        "id": "RZjE7iZbZhx7"
      }
    },
    {
      "cell_type": "markdown",
      "source": [
        "## Download the example dataset\n",
        "\n",
        "If you would like to have a quick try, you can use the example dataset."
      ],
      "metadata": {
        "id": "-eFB1gChYEV0"
      }
    },
    {
      "cell_type": "code",
      "source": [
        "# _DATASET_URL = 'https://storage.googleapis.com/infuseai-auto-img-cls/datasets/noodles_v1.2.zip'\n",
        "\n",
        "# !wget $_DATASET_URL\n",
        "\n",
        "# import os\n",
        "# import tempfile\n",
        "\n",
        "# basename = os.path.basename(_DATASET_URL)\n",
        "\n",
        "# with zipfile.ZipFile(basename, 'r') as zip_ref:\n",
        "#     zip_ref.extractall(\".\")\n",
        "\n",
        "# base, ext = os.path.splitext(basename)\n",
        "# dataset_dir = f\"{base}\"\n",
        "\n",
        "\n",
        "# print(f\"dataset dir: {dataset_dir}\")\n",
        "\n",
        "\n"
      ],
      "metadata": {
        "id": "Ya6nXUaAuUwS"
      },
      "execution_count": null,
      "outputs": []
    },
    {
      "cell_type": "markdown",
      "source": [
        "# Step 2: Train\n",
        "\n",
        "Now, we have dataset. Then we will start to train a model from the dataset.\n",
        "\n",
        "Most of the time, the step should not be a single run, we should adjust the parameters (or said hyperparameter) to get the best result.\n",
        "\n",
        "There are three parameter we can adjust\n",
        "1. `EPOCHS`: how many times we should go through the whole dataset\n",
        "2. `BATCH_SIZE`: how many data we should update the weights\n",
        "3. `LEARNING_RATE`: how big step we should update the weights for each batch\n",
        "\n",
        "In the training process, we will split the dataset into two part\n",
        "- Training set (80%): use to train and update the weight\n",
        "- Validation set (20%): use to validate the model\n",
        "\n",
        "The goal for each experiment is to get the best accuracy in the validation dataset."
      ],
      "metadata": {
        "id": "Em5mHPGMeR4q"
      }
    },
    {
      "cell_type": "code",
      "source": [
        "\n",
        "import wandb\n",
        "\n",
        "wandb.init(project=\"toy-project\", name='auto-img-cls', job_type='training')\n",
        "#wandb.init(project=\"toy-project\", name='auto-img-cls', job_type='training', group='group-1')\n",
        "\n",
        "artifact = wandb.use_artifact('qrtt1/toy-project-dataset2/noodles:v0', type='dataset')\n",
        "dataset_dir = artifact.download()\n",
        "\n",
        "EPOCHS = 3\n",
        "BATCH_SIZE = 25\n",
        "LEARNING_RATE = 0.0025\n",
        "\n",
        "\n",
        "wandb.config.update({\n",
        "  \"epochs\": EPOCHS,\n",
        "  \"batch_size\": BATCH_SIZE,\n",
        "  \"learning_rate\": LEARNING_RATE,\n",
        "  \"lr\": LEARNING_RATE,\n",
        "  \"xxx\": \"foobarbar\"\n",
        "})\n",
        "\n",
        "classifier = ImageClassifier()\n",
        "history = classifier.train(dataset_dir, epochs=EPOCHS, batch_size=BATCH_SIZE, learning_rate=LEARNING_RATE)\n",
        "\n",
        "\n",
        "\n"
      ],
      "metadata": {
        "id": "1TVF7a28aPOJ",
        "outputId": "9e9bb226-18e7-45cd-86f0-9e6b5dabbcbe",
        "colab": {
          "base_uri": "https://localhost:8080/",
          "height": 940
        }
      },
      "execution_count": null,
      "outputs": [
        {
          "output_type": "display_data",
          "data": {
            "text/html": [
              "\n",
              "                    Syncing run <strong><a href=\"https://wandb.ai/qrtt1/toy-project/runs/24w9bozn\" target=\"_blank\">auto-img-cls</a></strong> to <a href=\"https://wandb.ai/qrtt1/toy-project\" target=\"_blank\">Weights & Biases</a> (<a href=\"https://docs.wandb.com/integrations/jupyter.html\" target=\"_blank\">docs</a>).<br/>\n",
              "\n",
              "                "
            ],
            "text/plain": [
              "<IPython.core.display.HTML object>"
            ]
          },
          "metadata": {}
        },
        {
          "output_type": "stream",
          "name": "stderr",
          "text": [
            "\u001b[34m\u001b[1mwandb\u001b[0m: Downloading large artifact noodles:v0, 119.85MB. 304 files... Done. 0:0:0\n"
          ]
        },
        {
          "output_type": "stream",
          "name": "stdout",
          "text": [
            "Found 300 files belonging to 3 classes.\n",
            "Using 240 files for training.\n",
            "Found 300 files belonging to 3 classes.\n",
            "Using 60 files for validation.\n",
            "Number of trian batches: 10\n",
            "Number of validation batches: 3\n",
            "Model: \"model_2\"\n",
            "_________________________________________________________________\n",
            " Layer (type)                Output Shape              Param #   \n",
            "=================================================================\n",
            " input_6 (InputLayer)        [(None, 160, 160, 3)]     0         \n",
            "                                                                 \n",
            " tf.math.truediv_2 (TFOpLamb  (None, 160, 160, 3)      0         \n",
            " da)                                                             \n",
            "                                                                 \n",
            " tf.math.subtract_2 (TFOpLam  (None, 160, 160, 3)      0         \n",
            " bda)                                                            \n",
            "                                                                 \n",
            " mobilenetv2_1.00_160 (Funct  (None, 5, 5, 1280)       2257984   \n",
            " ional)                                                          \n",
            "                                                                 \n",
            " global_average_pooling2d_2   (None, 1280)             0         \n",
            " (GlobalAveragePooling2D)                                        \n",
            "                                                                 \n",
            " dropout_2 (Dropout)         (None, 1280)              0         \n",
            "                                                                 \n",
            " dense_2 (Dense)             (None, 3)                 3843      \n",
            "                                                                 \n",
            " tf.nn.softmax_2 (TFOpLambda  (None, 3)                0         \n",
            " )                                                               \n",
            "                                                                 \n",
            "=================================================================\n",
            "Total params: 2,261,827\n",
            "Trainable params: 1,865,283\n",
            "Non-trainable params: 396,544\n",
            "_________________________________________________________________\n",
            "Epoch 1/3\n",
            "10/10 [==============================] - ETA: 0s - loss: 4.8350 - accuracy: 0.2917"
          ]
        },
        {
          "output_type": "stream",
          "name": "stderr",
          "text": [
            "/usr/local/lib/python3.7/dist-packages/keras/engine/functional.py:1410: CustomMaskWarning: Custom mask layers require a config and must override get_config. When loading, the custom mask layer must be passed to the custom_objects argument.\n",
            "  layer_config = serialize_layer_fn(layer)\n"
          ]
        },
        {
          "output_type": "stream",
          "name": "stdout",
          "text": [
            "\b\b\b\b\b\b\b\b\b\b\b\b\b\b\b\b\b\b\b\b\b\b\b\b\b\b\b\b\b\b\b\b\b\b\b\b\b\b\b\b\b\b\b\b\b\b\b\b\b\b\b\b\b\b\b\b\b\b\b\b\b\b\b\b\b\b\b\b\b\b\b\b\b\b\b\b\b\b\b\b\b\b\r10/10 [==============================] - 10s 380ms/step - loss: 4.8350 - accuracy: 0.2917 - val_loss: 1.2365 - val_accuracy: 0.3833\n",
            "Epoch 2/3\n",
            "10/10 [==============================] - 5s 267ms/step - loss: 1.6327 - accuracy: 0.3458 - val_loss: 1.2976 - val_accuracy: 0.3000\n",
            "Epoch 3/3\n",
            "10/10 [==============================] - 6s 299ms/step - loss: 1.8106 - accuracy: 0.2833 - val_loss: 1.1126 - val_accuracy: 0.3833\n",
            "3/3 [==============================] - 2s 24ms/step - loss: 1.1126 - accuracy: 0.3833\n",
            "Test accuracy : 0.38333332538604736\n",
            "Predictions:\n",
            " [2 2 2 2 2 2 2 2 2 2 2 2 2 2 2 2 2 2 2 2 2 2 2 2 2]\n",
            "Labels:\n",
            " [1 1 2 1 0 1 1 1 2 2 1 1 0 0 2 0 2 2 2 0 0 2 2 0 0]\n"
          ]
        }
      ]
    },
    {
      "cell_type": "code",
      "source": [
        "import wandb\n",
        "\n",
        "sweep_config = {\n",
        "  \"name\" : \"my-sweep\",\n",
        "  \"method\" : \"random\",\n",
        "  \"parameters\" : {\n",
        "    \"epochs\" : {\n",
        "      \"values\" : [5, 10, 20]\n",
        "    },\n",
        "    \"learning_rate\" :{\n",
        "      \"min\": 0.0001,\n",
        "      \"max\": 0.1\n",
        "    }\n",
        "  }\n",
        "}\n",
        "\n",
        "sweep_id = wandb.sweep(sweep_config)\n",
        "\n",
        "classifier = ImageClassifier()\n",
        "\n",
        "def train():\n",
        "    with wandb.init(project='tuning-for-toy-project') as run:\n",
        "        config = wandb.config\n",
        "        # model = make_model(config)\n",
        "        \n",
        "        history = classifier.train(dataset_dir, epochs=config['epochs'], batch_size=25, learning_rate=config['learning_rate'])\n",
        "        # for epoch in range(config[\"epochs\"]):\n",
        "        #     loss = model.fit()  # your model training code here\n",
        "        #     wandb.log({\"loss\": loss, \"epoch\": epoch})\n",
        "\n",
        "count = 5 # number of runs to execute\n",
        "wandb.agent(sweep_id, function=train, count=count)"
      ],
      "metadata": {
        "colab": {
          "base_uri": "https://localhost:8080/",
          "height": 1000,
          "referenced_widgets": [
            "c2623bc2cd864ba19823a35b01cebdc7",
            "9c38f1fbf138472b8aa2b930222ece19",
            "651cd6f17587472f9a33e10dd3460b49",
            "241d6b8ef4f44aa798bd4c55fe55af4f",
            "136c3f03007a47889377c14c9a9f3a14",
            "0684845dda714b9ea19e9cffdc48cec4",
            "6341468f685945d8a3634598766f8b13",
            "ae59c62c4aa94aa9a56fcca5e960cc9e",
            "f42607fca9374901b59178d1c997f404",
            "0e8bd428a7c24d59a33d865da0838de2",
            "97c4feda9a4e43db9f752ae50aee8fef",
            "91e619c855b94644a2d011212aaf9e41",
            "5c6a8a2011b24a86a3137566dfe51ea2",
            "625b3450c85d4d85a0ebf7740070103e",
            "7baccf755f1d4e75a2c7ee6dc70d0fb4",
            "157838cccd174544bc5d549e0788cf52",
            "a5b39243089548379a27a8aa988a4f77",
            "3e1c0a4f5a254be3970da7ffed1bee8d",
            "e6b6d8e8e03f4a96af1c763ea8821f2b",
            "a6718359754345b0b53a0c81198b75b1",
            "01648ce803a445ebbadaef6e7f19606a",
            "2c538503f64547dfbd7df770c291c0ad",
            "914b9ceb268c40e1b4d43facb64f3623",
            "b02a717ce9ea4396ab62254b256668e0",
            "cf2e0618581e402f8ee0d5c063a7d9a2",
            "f954a8fc4cbd4a3b9ee35f8fa99bb1d1",
            "752dd7ac17b44c9aa8b10dacbfe0291a",
            "2deb8e8273df4ab997bfc629da0fd839",
            "bc1d2c8b60af417bad87c220973810fd",
            "a5d112b7994c473dbf221ec83fadf603",
            "9b83fb65facb44dd819efe26f2c2bac3",
            "7cf6664065574271bf2a4e3f77eb10b3",
            "d4b4113827c84e35b96f360d8b4cee0d",
            "4937e7cb512e453e9b93d48dc8693f8c",
            "0388192f86f843a9bda825c8c3161bb0",
            "b6de9a9384c04e66a5ec71915ed3144e",
            "788c0c1aac704630ac3e9fca9cd06879",
            "c2a8ec90b27a493a978a0223d76f1062",
            "5ed65f1885914bbcbb5f9ec78c01b6ec",
            "42db6e825b4a4932b9fa86a64aa7620d"
          ]
        },
        "id": "IGo3H-nxSHCG",
        "outputId": "26ed4f5d-fbf7-4d7a-b77d-f2473de0deec"
      },
      "execution_count": null,
      "outputs": [
        {
          "output_type": "stream",
          "name": "stdout",
          "text": [
            "Create sweep with ID: do63fokz\n",
            "Sweep URL: https://wandb.ai/qrtt1/uncategorized/sweeps/do63fokz\n"
          ]
        },
        {
          "output_type": "stream",
          "name": "stderr",
          "text": [
            "\u001b[34m\u001b[1mwandb\u001b[0m: Agent Starting Run: 7ysa3c6s with config:\n",
            "\u001b[34m\u001b[1mwandb\u001b[0m: \tepochs: 5\n",
            "\u001b[34m\u001b[1mwandb\u001b[0m: \tlearning_rate: 0.07972940326716206\n",
            "\u001b[34m\u001b[1mwandb\u001b[0m: \u001b[33mWARNING\u001b[0m Ignored wandb.init() arg project when running a sweep\n"
          ]
        },
        {
          "output_type": "display_data",
          "data": {
            "text/html": [
              "\n",
              "                    Syncing run <strong><a href=\"https://wandb.ai/qrtt1/uncategorized/runs/7ysa3c6s\" target=\"_blank\">sage-sweep-1</a></strong> to <a href=\"https://wandb.ai/qrtt1/uncategorized\" target=\"_blank\">Weights & Biases</a> (<a href=\"https://docs.wandb.com/integrations/jupyter.html\" target=\"_blank\">docs</a>).<br/>\n",
              "Sweep page: <a href=\"https://wandb.ai/qrtt1/uncategorized/sweeps/do63fokz\" target=\"_blank\">https://wandb.ai/qrtt1/uncategorized/sweeps/do63fokz</a><br/>\n",
              "\n",
              "                "
            ],
            "text/plain": [
              "<IPython.core.display.HTML object>"
            ]
          },
          "metadata": {}
        },
        {
          "output_type": "stream",
          "name": "stdout",
          "text": [
            "Found 300 files belonging to 3 classes.\n",
            "Using 240 files for training.\n",
            "Found 300 files belonging to 3 classes.\n",
            "Using 60 files for validation.\n",
            "Number of trian batches: 10\n",
            "Number of validation batches: 3\n",
            "Model: \"model\"\n",
            "_________________________________________________________________\n",
            " Layer (type)                Output Shape              Param #   \n",
            "=================================================================\n",
            " input_2 (InputLayer)        [(None, 160, 160, 3)]     0         \n",
            "                                                                 \n",
            " tf.math.truediv_5 (TFOpLamb  (None, 160, 160, 3)      0         \n",
            " da)                                                             \n",
            "                                                                 \n",
            " tf.math.subtract_5 (TFOpLam  (None, 160, 160, 3)      0         \n",
            " bda)                                                            \n",
            "                                                                 \n",
            " mobilenetv2_1.00_160 (Funct  (None, 5, 5, 1280)       2257984   \n",
            " ional)                                                          \n",
            "                                                                 \n",
            " global_average_pooling2d (G  (None, 1280)             0         \n",
            " lobalAveragePooling2D)                                          \n",
            "                                                                 \n",
            " dropout (Dropout)           (None, 1280)              0         \n",
            "                                                                 \n",
            " dense (Dense)               (None, 3)                 3843      \n",
            "                                                                 \n",
            " tf.nn.softmax_5 (TFOpLambda  (None, 3)                0         \n",
            " )                                                               \n",
            "                                                                 \n",
            "=================================================================\n",
            "Total params: 2,261,827\n",
            "Trainable params: 1,865,283\n",
            "Non-trainable params: 396,544\n",
            "_________________________________________________________________\n",
            "Epoch 1/5\n",
            "10/10 [==============================] - ETA: 0s - loss: 106.3481 - accuracy: 0.3375"
          ]
        },
        {
          "output_type": "stream",
          "name": "stderr",
          "text": [
            "/usr/local/lib/python3.7/dist-packages/keras/engine/functional.py:1410: CustomMaskWarning: Custom mask layers require a config and must override get_config. When loading, the custom mask layer must be passed to the custom_objects argument.\n",
            "  layer_config = serialize_layer_fn(layer)\n"
          ]
        },
        {
          "output_type": "stream",
          "name": "stdout",
          "text": [
            "\b\b\b\b\b\b\b\b\b\b\b\b\b\b\b\b\b\b\b\b\b\b\b\b\b\b\b\b\b\b\b\b\b\b\b\b\b\b\b\b\b\b\b\b\b\b\b\b\b\b\b\b\b\b\b\b\b\b\b\b\b\b\b\b\b\b\b\b\b\b\b\b\b\b\b\b\b\b\b\b\b\b\b\b\r10/10 [==============================] - 9s 381ms/step - loss: 106.3481 - accuracy: 0.3375 - val_loss: 118.6562 - val_accuracy: 0.3167\n",
            "Epoch 2/5\n",
            "10/10 [==============================] - 6s 302ms/step - loss: 124.4365 - accuracy: 0.3250 - val_loss: 59.9475 - val_accuracy: 0.3833\n",
            "Epoch 3/5\n",
            "10/10 [==============================] - 6s 296ms/step - loss: 49.4566 - accuracy: 0.3375 - val_loss: 36.3466 - val_accuracy: 0.3000\n",
            "Epoch 4/5\n",
            "10/10 [==============================] - 6s 298ms/step - loss: 41.3645 - accuracy: 0.3083 - val_loss: 26.3716 - val_accuracy: 0.3000\n",
            "Epoch 5/5\n",
            "10/10 [==============================] - 6s 298ms/step - loss: 43.8311 - accuracy: 0.3458 - val_loss: 26.1092 - val_accuracy: 0.3000\n",
            "3/3 [==============================] - 2s 27ms/step - loss: 26.1092 - accuracy: 0.3000\n",
            "Test accuracy : 0.30000001192092896\n",
            "WARNING:tensorflow:5 out of the last 9 calls to <function Model.make_predict_function.<locals>.predict_function at 0x7fb6d196fef0> triggered tf.function retracing. Tracing is expensive and the excessive number of tracings could be due to (1) creating @tf.function repeatedly in a loop, (2) passing tensors with different shapes, (3) passing Python objects instead of tensors. For (1), please define your @tf.function outside of the loop. For (2), @tf.function has experimental_relax_shapes=True option that relaxes argument shapes that can avoid unnecessary retracing. For (3), please refer to https://www.tensorflow.org/guide/function#controlling_retracing and https://www.tensorflow.org/api_docs/python/tf/function for  more details.\n",
            "Predictions:\n",
            " [1 1 1 1 1 1 1 1 1 1 1 1 1 1 1 1 1 1 1 1 1 1 1 1 1]\n",
            "Labels:\n",
            " [1 0 0 1 2 0 2 2 2 2 2 1 1 1 2 2 0 1 1 0 1 2 2 2 1]\n"
          ]
        },
        {
          "output_type": "display_data",
          "data": {
            "text/html": [
              "<br/>Waiting for W&B process to finish, PID 1100... <strong style=\"color:green\">(success).</strong>"
            ],
            "text/plain": [
              "<IPython.core.display.HTML object>"
            ]
          },
          "metadata": {}
        },
        {
          "output_type": "display_data",
          "data": {
            "application/vnd.jupyter.widget-view+json": {
              "model_id": "c2623bc2cd864ba19823a35b01cebdc7",
              "version_minor": 0,
              "version_major": 2
            },
            "text/plain": [
              "VBox(children=(Label(value=' 0.00MB of 0.00MB uploaded (0.00MB deduped)\\r'), FloatProgress(value=1.0, max=1.0)…"
            ]
          },
          "metadata": {}
        },
        {
          "output_type": "display_data",
          "data": {
            "text/html": [
              "<style>\n",
              "    table.wandb td:nth-child(1) { padding: 0 10px; text-align: right }\n",
              "    .wandb-row { display: flex; flex-direction: row; flex-wrap: wrap; width: 100% }\n",
              "    .wandb-col { display: flex; flex-direction: column; flex-basis: 100%; flex: 1; padding: 10px; }\n",
              "    </style>\n",
              "<div class=\"wandb-row\"><div class=\"wandb-col\">\n",
              "<h3>Run history:</h3><br/><table class=\"wandb\"><tr><td>accuracy</td><td>▆▄▆▁█</td></tr><tr><td>epoch</td><td>▁▃▅▆█</td></tr><tr><td>loss</td><td>▆█▂▁▁</td></tr><tr><td>val_accuracy</td><td>▂█▁▁▁</td></tr><tr><td>val_loss</td><td>█▄▂▁▁</td></tr></table><br/></div><div class=\"wandb-col\">\n",
              "<h3>Run summary:</h3><br/><table class=\"wandb\"><tr><td>accuracy</td><td>0.34583</td></tr><tr><td>best_epoch</td><td>4</td></tr><tr><td>best_val_loss</td><td>26.10916</td></tr><tr><td>epoch</td><td>4</td></tr><tr><td>loss</td><td>43.83113</td></tr><tr><td>val_accuracy</td><td>0.3</td></tr><tr><td>val_loss</td><td>26.10916</td></tr></table>\n",
              "</div></div>\n",
              "Synced 5 W&B file(s), 1 media file(s), 0 artifact file(s) and 1 other file(s)\n",
              "<br/>Synced <strong style=\"color:#cdcd00\">sage-sweep-1</strong>: <a href=\"https://wandb.ai/qrtt1/uncategorized/runs/7ysa3c6s\" target=\"_blank\">https://wandb.ai/qrtt1/uncategorized/runs/7ysa3c6s</a><br/>\n",
              "Find logs at: <code>./wandb/run-20220113_071809-7ysa3c6s/logs</code><br/>\n"
            ],
            "text/plain": [
              "<IPython.core.display.HTML object>"
            ]
          },
          "metadata": {}
        },
        {
          "output_type": "stream",
          "name": "stderr",
          "text": [
            "\u001b[34m\u001b[1mwandb\u001b[0m: Agent Starting Run: wnwxiyq3 with config:\n",
            "\u001b[34m\u001b[1mwandb\u001b[0m: \tepochs: 20\n",
            "\u001b[34m\u001b[1mwandb\u001b[0m: \tlearning_rate: 0.08415230039430407\n",
            "\u001b[34m\u001b[1mwandb\u001b[0m: \u001b[33mWARNING\u001b[0m Ignored wandb.init() arg project when running a sweep\n"
          ]
        },
        {
          "output_type": "display_data",
          "data": {
            "text/html": [
              "\n",
              "                    Syncing run <strong><a href=\"https://wandb.ai/qrtt1/uncategorized/runs/wnwxiyq3\" target=\"_blank\">dauntless-sweep-2</a></strong> to <a href=\"https://wandb.ai/qrtt1/uncategorized\" target=\"_blank\">Weights & Biases</a> (<a href=\"https://docs.wandb.com/integrations/jupyter.html\" target=\"_blank\">docs</a>).<br/>\n",
              "Sweep page: <a href=\"https://wandb.ai/qrtt1/uncategorized/sweeps/do63fokz\" target=\"_blank\">https://wandb.ai/qrtt1/uncategorized/sweeps/do63fokz</a><br/>\n",
              "\n",
              "                "
            ],
            "text/plain": [
              "<IPython.core.display.HTML object>"
            ]
          },
          "metadata": {}
        },
        {
          "output_type": "stream",
          "name": "stdout",
          "text": [
            "Found 300 files belonging to 3 classes.\n",
            "Using 240 files for training.\n",
            "Found 300 files belonging to 3 classes.\n",
            "Using 60 files for validation.\n",
            "Number of trian batches: 10\n",
            "Number of validation batches: 3\n",
            "Model: \"model\"\n",
            "_________________________________________________________________\n",
            " Layer (type)                Output Shape              Param #   \n",
            "=================================================================\n",
            " input_2 (InputLayer)        [(None, 160, 160, 3)]     0         \n",
            "                                                                 \n",
            " tf.math.truediv_6 (TFOpLamb  (None, 160, 160, 3)      0         \n",
            " da)                                                             \n",
            "                                                                 \n",
            " tf.math.subtract_6 (TFOpLam  (None, 160, 160, 3)      0         \n",
            " bda)                                                            \n",
            "                                                                 \n",
            " mobilenetv2_1.00_160 (Funct  (None, 5, 5, 1280)       2257984   \n",
            " ional)                                                          \n",
            "                                                                 \n",
            " global_average_pooling2d (G  (None, 1280)             0         \n",
            " lobalAveragePooling2D)                                          \n",
            "                                                                 \n",
            " dropout (Dropout)           (None, 1280)              0         \n",
            "                                                                 \n",
            " dense (Dense)               (None, 3)                 3843      \n",
            "                                                                 \n",
            " tf.nn.softmax_6 (TFOpLambda  (None, 3)                0         \n",
            " )                                                               \n",
            "                                                                 \n",
            "=================================================================\n",
            "Total params: 2,261,827\n",
            "Trainable params: 1,865,283\n",
            "Non-trainable params: 396,544\n",
            "_________________________________________________________________\n",
            "Epoch 1/20\n",
            "10/10 [==============================] - 9s 373ms/step - loss: 111.1184 - accuracy: 0.3208 - val_loss: 131.2221 - val_accuracy: 0.3167\n",
            "Epoch 2/20\n",
            "10/10 [==============================] - 6s 299ms/step - loss: 124.2651 - accuracy: 0.3292 - val_loss: 120.3982 - val_accuracy: 0.3167\n",
            "Epoch 3/20\n",
            "10/10 [==============================] - 6s 296ms/step - loss: 83.8855 - accuracy: 0.3333 - val_loss: 107.3990 - val_accuracy: 0.3167\n",
            "Epoch 4/20\n",
            "10/10 [==============================] - 6s 299ms/step - loss: 72.0446 - accuracy: 0.3000 - val_loss: 56.8091 - val_accuracy: 0.3833\n",
            "Epoch 5/20\n",
            "10/10 [==============================] - 6s 300ms/step - loss: 36.0371 - accuracy: 0.3292 - val_loss: 21.1861 - val_accuracy: 0.3833\n",
            "Epoch 6/20\n",
            "10/10 [==============================] - 5s 258ms/step - loss: 26.3913 - accuracy: 0.3458 - val_loss: 53.2941 - val_accuracy: 0.3167\n",
            "Epoch 7/20\n",
            "10/10 [==============================] - 5s 256ms/step - loss: 49.6717 - accuracy: 0.3375 - val_loss: 22.4752 - val_accuracy: 0.3833\n",
            "Epoch 8/20\n",
            "10/10 [==============================] - 5s 263ms/step - loss: 47.6883 - accuracy: 0.2833 - val_loss: 51.5741 - val_accuracy: 0.3000\n",
            "Epoch 9/20\n",
            "10/10 [==============================] - 5s 265ms/step - loss: 25.9177 - accuracy: 0.3625 - val_loss: 21.7025 - val_accuracy: 0.3167\n",
            "Epoch 10/20\n",
            "10/10 [==============================] - 5s 259ms/step - loss: 29.4250 - accuracy: 0.3000 - val_loss: 35.8598 - val_accuracy: 0.3000\n",
            "Epoch 11/20\n",
            "10/10 [==============================] - 5s 257ms/step - loss: 34.4768 - accuracy: 0.3167 - val_loss: 30.6266 - val_accuracy: 0.3167\n",
            "Epoch 12/20\n",
            "10/10 [==============================] - 6s 300ms/step - loss: 31.5688 - accuracy: 0.3375 - val_loss: 4.0335 - val_accuracy: 0.3833\n",
            "Epoch 13/20\n",
            "10/10 [==============================] - 5s 264ms/step - loss: 26.2575 - accuracy: 0.3208 - val_loss: 19.8882 - val_accuracy: 0.3000\n",
            "Epoch 14/20\n",
            "10/10 [==============================] - 5s 259ms/step - loss: 35.9376 - accuracy: 0.2875 - val_loss: 37.5836 - val_accuracy: 0.3000\n",
            "Epoch 15/20\n",
            "10/10 [==============================] - 5s 258ms/step - loss: 38.7100 - accuracy: 0.2833 - val_loss: 55.9050 - val_accuracy: 0.3167\n",
            "Epoch 16/20\n",
            "10/10 [==============================] - 5s 256ms/step - loss: 34.2491 - accuracy: 0.3667 - val_loss: 26.5206 - val_accuracy: 0.3833\n",
            "Epoch 17/20\n",
            "10/10 [==============================] - 5s 262ms/step - loss: 25.8702 - accuracy: 0.3125 - val_loss: 26.3681 - val_accuracy: 0.3833\n",
            "Epoch 18/20\n",
            "10/10 [==============================] - 6s 296ms/step - loss: 20.5483 - accuracy: 0.3667 - val_loss: 3.4447 - val_accuracy: 0.3000\n",
            "Epoch 19/20\n",
            "10/10 [==============================] - 5s 262ms/step - loss: 29.8713 - accuracy: 0.3083 - val_loss: 15.2880 - val_accuracy: 0.3833\n",
            "Epoch 20/20\n",
            "10/10 [==============================] - 5s 256ms/step - loss: 22.8345 - accuracy: 0.3542 - val_loss: 25.1992 - val_accuracy: 0.3167\n",
            "3/3 [==============================] - 2s 24ms/step - loss: 25.1992 - accuracy: 0.3167\n",
            "Test accuracy : 0.3166666626930237\n",
            "WARNING:tensorflow:6 out of the last 11 calls to <function Model.make_predict_function.<locals>.predict_function at 0x7fb64c7d8ef0> triggered tf.function retracing. Tracing is expensive and the excessive number of tracings could be due to (1) creating @tf.function repeatedly in a loop, (2) passing tensors with different shapes, (3) passing Python objects instead of tensors. For (1), please define your @tf.function outside of the loop. For (2), @tf.function has experimental_relax_shapes=True option that relaxes argument shapes that can avoid unnecessary retracing. For (3), please refer to https://www.tensorflow.org/guide/function#controlling_retracing and https://www.tensorflow.org/api_docs/python/tf/function for  more details.\n",
            "Predictions:\n",
            " [0 0 0 0 0 0 0 0 0 0 0 0 0 0 0 0 0 0 0 0 0 0 0 0 0]\n",
            "Labels:\n",
            " [0 1 1 0 2 0 2 1 1 1 0 2 1 0 2 0 0 0 2 1 1 2 0 2 0]\n"
          ]
        },
        {
          "output_type": "display_data",
          "data": {
            "text/html": [
              "<br/>Waiting for W&B process to finish, PID 1249... <strong style=\"color:green\">(success).</strong>"
            ],
            "text/plain": [
              "<IPython.core.display.HTML object>"
            ]
          },
          "metadata": {}
        },
        {
          "output_type": "display_data",
          "data": {
            "application/vnd.jupyter.widget-view+json": {
              "model_id": "f42607fca9374901b59178d1c997f404",
              "version_minor": 0,
              "version_major": 2
            },
            "text/plain": [
              "VBox(children=(Label(value=' 16.39MB of 16.39MB uploaded (0.00MB deduped)\\r'), FloatProgress(value=1.0, max=1.…"
            ]
          },
          "metadata": {}
        },
        {
          "output_type": "display_data",
          "data": {
            "text/html": [
              "<style>\n",
              "    table.wandb td:nth-child(1) { padding: 0 10px; text-align: right }\n",
              "    .wandb-row { display: flex; flex-direction: row; flex-wrap: wrap; width: 100% }\n",
              "    .wandb-col { display: flex; flex-direction: column; flex-basis: 100%; flex: 1; padding: 10px; }\n",
              "    </style>\n",
              "<div class=\"wandb-row\"><div class=\"wandb-col\">\n",
              "<h3>Run history:</h3><br/><table class=\"wandb\"><tr><td>accuracy</td><td>▄▅▅▂▅▆▆▁█▂▄▆▄▁▁█▃█▃▇</td></tr><tr><td>epoch</td><td>▁▁▂▂▂▃▃▄▄▄▅▅▅▆▆▇▇▇██</td></tr><tr><td>loss</td><td>▇█▅▄▂▁▃▃▁▂▂▂▁▂▂▂▁▁▂▁</td></tr><tr><td>val_accuracy</td><td>▂▂▂██▂█▁▂▁▂█▁▁▂██▁█▂</td></tr><tr><td>val_loss</td><td>█▇▇▄▂▄▂▄▂▃▂▁▂▃▄▂▂▁▂▂</td></tr></table><br/></div><div class=\"wandb-col\">\n",
              "<h3>Run summary:</h3><br/><table class=\"wandb\"><tr><td>accuracy</td><td>0.35417</td></tr><tr><td>best_epoch</td><td>17</td></tr><tr><td>best_val_loss</td><td>3.44474</td></tr><tr><td>epoch</td><td>19</td></tr><tr><td>loss</td><td>22.83447</td></tr><tr><td>val_accuracy</td><td>0.31667</td></tr><tr><td>val_loss</td><td>25.1992</td></tr></table>\n",
              "</div></div>\n",
              "Synced 5 W&B file(s), 1 media file(s), 0 artifact file(s) and 1 other file(s)\n",
              "<br/>Synced <strong style=\"color:#cdcd00\">dauntless-sweep-2</strong>: <a href=\"https://wandb.ai/qrtt1/uncategorized/runs/wnwxiyq3\" target=\"_blank\">https://wandb.ai/qrtt1/uncategorized/runs/wnwxiyq3</a><br/>\n",
              "Find logs at: <code>./wandb/run-20220113_071911-wnwxiyq3/logs</code><br/>\n"
            ],
            "text/plain": [
              "<IPython.core.display.HTML object>"
            ]
          },
          "metadata": {}
        },
        {
          "output_type": "stream",
          "name": "stderr",
          "text": [
            "\u001b[34m\u001b[1mwandb\u001b[0m: Agent Starting Run: w8wff6wk with config:\n",
            "\u001b[34m\u001b[1mwandb\u001b[0m: \tepochs: 10\n",
            "\u001b[34m\u001b[1mwandb\u001b[0m: \tlearning_rate: 0.004980061012178363\n",
            "\u001b[34m\u001b[1mwandb\u001b[0m: \u001b[33mWARNING\u001b[0m Ignored wandb.init() arg project when running a sweep\n"
          ]
        },
        {
          "output_type": "display_data",
          "data": {
            "text/html": [
              "\n",
              "                    Syncing run <strong><a href=\"https://wandb.ai/qrtt1/uncategorized/runs/w8wff6wk\" target=\"_blank\">eternal-sweep-3</a></strong> to <a href=\"https://wandb.ai/qrtt1/uncategorized\" target=\"_blank\">Weights & Biases</a> (<a href=\"https://docs.wandb.com/integrations/jupyter.html\" target=\"_blank\">docs</a>).<br/>\n",
              "Sweep page: <a href=\"https://wandb.ai/qrtt1/uncategorized/sweeps/do63fokz\" target=\"_blank\">https://wandb.ai/qrtt1/uncategorized/sweeps/do63fokz</a><br/>\n",
              "\n",
              "                "
            ],
            "text/plain": [
              "<IPython.core.display.HTML object>"
            ]
          },
          "metadata": {}
        },
        {
          "output_type": "stream",
          "name": "stdout",
          "text": [
            "Found 300 files belonging to 3 classes.\n",
            "Using 240 files for training.\n",
            "Found 300 files belonging to 3 classes.\n",
            "Using 60 files for validation.\n",
            "Number of trian batches: 10\n",
            "Number of validation batches: 3\n",
            "Model: \"model\"\n",
            "_________________________________________________________________\n",
            " Layer (type)                Output Shape              Param #   \n",
            "=================================================================\n",
            " input_2 (InputLayer)        [(None, 160, 160, 3)]     0         \n",
            "                                                                 \n",
            " tf.math.truediv_7 (TFOpLamb  (None, 160, 160, 3)      0         \n",
            " da)                                                             \n",
            "                                                                 \n",
            " tf.math.subtract_7 (TFOpLam  (None, 160, 160, 3)      0         \n",
            " bda)                                                            \n",
            "                                                                 \n",
            " mobilenetv2_1.00_160 (Funct  (None, 5, 5, 1280)       2257984   \n",
            " ional)                                                          \n",
            "                                                                 \n",
            " global_average_pooling2d (G  (None, 1280)             0         \n",
            " lobalAveragePooling2D)                                          \n",
            "                                                                 \n",
            " dropout (Dropout)           (None, 1280)              0         \n",
            "                                                                 \n",
            " dense (Dense)               (None, 3)                 3843      \n",
            "                                                                 \n",
            " tf.nn.softmax_7 (TFOpLambda  (None, 3)                0         \n",
            " )                                                               \n",
            "                                                                 \n",
            "=================================================================\n",
            "Total params: 2,261,827\n",
            "Trainable params: 1,865,283\n",
            "Non-trainable params: 396,544\n",
            "_________________________________________________________________\n",
            "Epoch 1/10\n",
            "10/10 [==============================] - 10s 375ms/step - loss: 10.8178 - accuracy: 0.2833 - val_loss: 1.8066 - val_accuracy: 0.3000\n",
            "Epoch 2/10\n",
            "10/10 [==============================] - 6s 297ms/step - loss: 2.3651 - accuracy: 0.2750 - val_loss: 1.1494 - val_accuracy: 0.3833\n",
            "Epoch 3/10\n",
            "10/10 [==============================] - 5s 263ms/step - loss: 2.3169 - accuracy: 0.2792 - val_loss: 1.2272 - val_accuracy: 0.3000\n",
            "Epoch 4/10\n",
            "10/10 [==============================] - 5s 259ms/step - loss: 2.3131 - accuracy: 0.2875 - val_loss: 1.1766 - val_accuracy: 0.3167\n",
            "Epoch 5/10\n",
            "10/10 [==============================] - 5s 255ms/step - loss: 2.1626 - accuracy: 0.3167 - val_loss: 1.7913 - val_accuracy: 0.3000\n",
            "Epoch 6/10\n",
            "10/10 [==============================] - 5s 262ms/step - loss: 1.9989 - accuracy: 0.3917 - val_loss: 2.0624 - val_accuracy: 0.3000\n",
            "Epoch 7/10\n",
            "10/10 [==============================] - 5s 259ms/step - loss: 1.9584 - accuracy: 0.3958 - val_loss: 1.5047 - val_accuracy: 0.3167\n",
            "Epoch 8/10\n",
            "10/10 [==============================] - 5s 260ms/step - loss: 2.0089 - accuracy: 0.3292 - val_loss: 1.4436 - val_accuracy: 0.3167\n",
            "Epoch 9/10\n",
            "10/10 [==============================] - 6s 264ms/step - loss: 2.1011 - accuracy: 0.3500 - val_loss: 1.8331 - val_accuracy: 0.3167\n",
            "Epoch 10/10\n",
            "10/10 [==============================] - 5s 259ms/step - loss: 2.4922 - accuracy: 0.3125 - val_loss: 4.0015 - val_accuracy: 0.3000\n",
            "3/3 [==============================] - 2s 24ms/step - loss: 4.0015 - accuracy: 0.3000\n",
            "Test accuracy : 0.30000001192092896\n",
            "Predictions:\n",
            " [1 1 1 1 1 1 1 1 1 1 1 1 1 1 1 1 1 1 1 1 1 1 1 1 1]\n",
            "Labels:\n",
            " [0 0 2 0 1 0 0 1 1 0 1 1 2 1 2 2 1 0 2 2 0 2 0 1 1]\n"
          ]
        },
        {
          "output_type": "display_data",
          "data": {
            "text/html": [
              "<br/>Waiting for W&B process to finish, PID 1634... <strong style=\"color:green\">(success).</strong>"
            ],
            "text/plain": [
              "<IPython.core.display.HTML object>"
            ]
          },
          "metadata": {}
        },
        {
          "output_type": "display_data",
          "data": {
            "application/vnd.jupyter.widget-view+json": {
              "model_id": "a5b39243089548379a27a8aa988a4f77",
              "version_minor": 0,
              "version_major": 2
            },
            "text/plain": [
              "VBox(children=(Label(value=' 0.11MB of 0.11MB uploaded (0.00MB deduped)\\r'), FloatProgress(value=1.0, max=1.0)…"
            ]
          },
          "metadata": {}
        },
        {
          "output_type": "display_data",
          "data": {
            "text/html": [
              "<style>\n",
              "    table.wandb td:nth-child(1) { padding: 0 10px; text-align: right }\n",
              "    .wandb-row { display: flex; flex-direction: row; flex-wrap: wrap; width: 100% }\n",
              "    .wandb-col { display: flex; flex-direction: column; flex-basis: 100%; flex: 1; padding: 10px; }\n",
              "    </style>\n",
              "<div class=\"wandb-row\"><div class=\"wandb-col\">\n",
              "<h3>Run history:</h3><br/><table class=\"wandb\"><tr><td>accuracy</td><td>▁▁▁▂▃██▄▅▃</td></tr><tr><td>epoch</td><td>▁▂▃▃▄▅▆▆▇█</td></tr><tr><td>loss</td><td>█▁▁▁▁▁▁▁▁▁</td></tr><tr><td>val_accuracy</td><td>▁█▁▂▁▁▂▂▂▁</td></tr><tr><td>val_loss</td><td>▃▁▁▁▃▃▂▂▃█</td></tr></table><br/></div><div class=\"wandb-col\">\n",
              "<h3>Run summary:</h3><br/><table class=\"wandb\"><tr><td>accuracy</td><td>0.3125</td></tr><tr><td>best_epoch</td><td>1</td></tr><tr><td>best_val_loss</td><td>1.14939</td></tr><tr><td>epoch</td><td>9</td></tr><tr><td>loss</td><td>2.49223</td></tr><tr><td>val_accuracy</td><td>0.3</td></tr><tr><td>val_loss</td><td>4.00154</td></tr></table>\n",
              "</div></div>\n",
              "Synced 5 W&B file(s), 1 media file(s), 0 artifact file(s) and 1 other file(s)\n",
              "<br/>Synced <strong style=\"color:#cdcd00\">eternal-sweep-3</strong>: <a href=\"https://wandb.ai/qrtt1/uncategorized/runs/w8wff6wk\" target=\"_blank\">https://wandb.ai/qrtt1/uncategorized/runs/w8wff6wk</a><br/>\n",
              "Find logs at: <code>./wandb/run-20220113_072209-w8wff6wk/logs</code><br/>\n"
            ],
            "text/plain": [
              "<IPython.core.display.HTML object>"
            ]
          },
          "metadata": {}
        },
        {
          "output_type": "stream",
          "name": "stderr",
          "text": [
            "\u001b[34m\u001b[1mwandb\u001b[0m: Agent Starting Run: i2d7kqgu with config:\n",
            "\u001b[34m\u001b[1mwandb\u001b[0m: \tepochs: 5\n",
            "\u001b[34m\u001b[1mwandb\u001b[0m: \tlearning_rate: 0.053317799987105806\n",
            "\u001b[34m\u001b[1mwandb\u001b[0m: \u001b[33mWARNING\u001b[0m Ignored wandb.init() arg project when running a sweep\n"
          ]
        },
        {
          "output_type": "display_data",
          "data": {
            "text/html": [
              "\n",
              "                    Syncing run <strong><a href=\"https://wandb.ai/qrtt1/uncategorized/runs/i2d7kqgu\" target=\"_blank\">jolly-sweep-4</a></strong> to <a href=\"https://wandb.ai/qrtt1/uncategorized\" target=\"_blank\">Weights & Biases</a> (<a href=\"https://docs.wandb.com/integrations/jupyter.html\" target=\"_blank\">docs</a>).<br/>\n",
              "Sweep page: <a href=\"https://wandb.ai/qrtt1/uncategorized/sweeps/do63fokz\" target=\"_blank\">https://wandb.ai/qrtt1/uncategorized/sweeps/do63fokz</a><br/>\n",
              "\n",
              "                "
            ],
            "text/plain": [
              "<IPython.core.display.HTML object>"
            ]
          },
          "metadata": {}
        },
        {
          "output_type": "stream",
          "name": "stdout",
          "text": [
            "Found 300 files belonging to 3 classes.\n",
            "Using 240 files for training.\n",
            "Found 300 files belonging to 3 classes.\n",
            "Using 60 files for validation.\n",
            "Number of trian batches: 10\n",
            "Number of validation batches: 3\n",
            "Model: \"model\"\n",
            "_________________________________________________________________\n",
            " Layer (type)                Output Shape              Param #   \n",
            "=================================================================\n",
            " input_2 (InputLayer)        [(None, 160, 160, 3)]     0         \n",
            "                                                                 \n",
            " tf.math.truediv_8 (TFOpLamb  (None, 160, 160, 3)      0         \n",
            " da)                                                             \n",
            "                                                                 \n",
            " tf.math.subtract_8 (TFOpLam  (None, 160, 160, 3)      0         \n",
            " bda)                                                            \n",
            "                                                                 \n",
            " mobilenetv2_1.00_160 (Funct  (None, 5, 5, 1280)       2257984   \n",
            " ional)                                                          \n",
            "                                                                 \n",
            " global_average_pooling2d (G  (None, 1280)             0         \n",
            " lobalAveragePooling2D)                                          \n",
            "                                                                 \n",
            " dropout (Dropout)           (None, 1280)              0         \n",
            "                                                                 \n",
            " dense (Dense)               (None, 3)                 3843      \n",
            "                                                                 \n",
            " tf.nn.softmax_8 (TFOpLambda  (None, 3)                0         \n",
            " )                                                               \n",
            "                                                                 \n",
            "=================================================================\n",
            "Total params: 2,261,827\n",
            "Trainable params: 1,865,283\n",
            "Non-trainable params: 396,544\n",
            "_________________________________________________________________\n",
            "Epoch 1/5\n",
            "10/10 [==============================] - 9s 378ms/step - loss: 59.8204 - accuracy: 0.3333 - val_loss: 21.9699 - val_accuracy: 0.3167\n",
            "Epoch 2/5\n",
            "10/10 [==============================] - 5s 262ms/step - loss: 35.7319 - accuracy: 0.3250 - val_loss: 44.2682 - val_accuracy: 0.3000\n",
            "Epoch 3/5\n",
            "10/10 [==============================] - 6s 296ms/step - loss: 45.6294 - accuracy: 0.2708 - val_loss: 10.0374 - val_accuracy: 0.3833\n",
            "Epoch 4/5\n",
            "10/10 [==============================] - 5s 259ms/step - loss: 27.7452 - accuracy: 0.3750 - val_loss: 16.2287 - val_accuracy: 0.3000\n",
            "Epoch 5/5\n",
            "10/10 [==============================] - 5s 259ms/step - loss: 40.0687 - accuracy: 0.2583 - val_loss: 20.8686 - val_accuracy: 0.3833\n",
            "3/3 [==============================] - 2s 23ms/step - loss: 20.8686 - accuracy: 0.3833\n",
            "Test accuracy : 0.38333332538604736\n",
            "Predictions:\n",
            " [2 2 2 2 2 2 2 2 2 2 2 2 2 2 2 2 2 2 2 2 2 2 2 2 2]\n",
            "Labels:\n",
            " [1 0 0 1 2 0 2 2 2 2 2 1 1 1 2 2 0 1 1 0 1 2 2 2 1]\n"
          ]
        },
        {
          "output_type": "display_data",
          "data": {
            "text/html": [
              "<br/>Waiting for W&B process to finish, PID 1858... <strong style=\"color:green\">(success).</strong>"
            ],
            "text/plain": [
              "<IPython.core.display.HTML object>"
            ]
          },
          "metadata": {}
        },
        {
          "output_type": "display_data",
          "data": {
            "application/vnd.jupyter.widget-view+json": {
              "model_id": "cf2e0618581e402f8ee0d5c063a7d9a2",
              "version_minor": 0,
              "version_major": 2
            },
            "text/plain": [
              "VBox(children=(Label(value=' 23.29MB of 23.29MB uploaded (0.00MB deduped)\\r'), FloatProgress(value=1.0, max=1.…"
            ]
          },
          "metadata": {}
        },
        {
          "output_type": "display_data",
          "data": {
            "text/html": [
              "<style>\n",
              "    table.wandb td:nth-child(1) { padding: 0 10px; text-align: right }\n",
              "    .wandb-row { display: flex; flex-direction: row; flex-wrap: wrap; width: 100% }\n",
              "    .wandb-col { display: flex; flex-direction: column; flex-basis: 100%; flex: 1; padding: 10px; }\n",
              "    </style>\n",
              "<div class=\"wandb-row\"><div class=\"wandb-col\">\n",
              "<h3>Run history:</h3><br/><table class=\"wandb\"><tr><td>accuracy</td><td>▆▅▂█▁</td></tr><tr><td>epoch</td><td>▁▃▅▆█</td></tr><tr><td>loss</td><td>█▃▅▁▄</td></tr><tr><td>val_accuracy</td><td>▂▁█▁█</td></tr><tr><td>val_loss</td><td>▃█▁▂▃</td></tr></table><br/></div><div class=\"wandb-col\">\n",
              "<h3>Run summary:</h3><br/><table class=\"wandb\"><tr><td>accuracy</td><td>0.25833</td></tr><tr><td>best_epoch</td><td>2</td></tr><tr><td>best_val_loss</td><td>10.03741</td></tr><tr><td>epoch</td><td>4</td></tr><tr><td>loss</td><td>40.06866</td></tr><tr><td>val_accuracy</td><td>0.38333</td></tr><tr><td>val_loss</td><td>20.86859</td></tr></table>\n",
              "</div></div>\n",
              "Synced 5 W&B file(s), 1 media file(s), 0 artifact file(s) and 1 other file(s)\n",
              "<br/>Synced <strong style=\"color:#cdcd00\">jolly-sweep-4</strong>: <a href=\"https://wandb.ai/qrtt1/uncategorized/runs/i2d7kqgu\" target=\"_blank\">https://wandb.ai/qrtt1/uncategorized/runs/i2d7kqgu</a><br/>\n",
              "Find logs at: <code>./wandb/run-20220113_072333-i2d7kqgu/logs</code><br/>\n"
            ],
            "text/plain": [
              "<IPython.core.display.HTML object>"
            ]
          },
          "metadata": {}
        },
        {
          "output_type": "stream",
          "name": "stderr",
          "text": [
            "\u001b[34m\u001b[1mwandb\u001b[0m: Agent Starting Run: 6xtlyxxm with config:\n",
            "\u001b[34m\u001b[1mwandb\u001b[0m: \tepochs: 5\n",
            "\u001b[34m\u001b[1mwandb\u001b[0m: \tlearning_rate: 0.021540870433390626\n",
            "\u001b[34m\u001b[1mwandb\u001b[0m: \u001b[33mWARNING\u001b[0m Ignored wandb.init() arg project when running a sweep\n"
          ]
        },
        {
          "output_type": "display_data",
          "data": {
            "text/html": [
              "\n",
              "                    Syncing run <strong><a href=\"https://wandb.ai/qrtt1/uncategorized/runs/6xtlyxxm\" target=\"_blank\">youthful-sweep-5</a></strong> to <a href=\"https://wandb.ai/qrtt1/uncategorized\" target=\"_blank\">Weights & Biases</a> (<a href=\"https://docs.wandb.com/integrations/jupyter.html\" target=\"_blank\">docs</a>).<br/>\n",
              "Sweep page: <a href=\"https://wandb.ai/qrtt1/uncategorized/sweeps/do63fokz\" target=\"_blank\">https://wandb.ai/qrtt1/uncategorized/sweeps/do63fokz</a><br/>\n",
              "\n",
              "                "
            ],
            "text/plain": [
              "<IPython.core.display.HTML object>"
            ]
          },
          "metadata": {}
        },
        {
          "output_type": "stream",
          "name": "stdout",
          "text": [
            "Found 300 files belonging to 3 classes.\n",
            "Using 240 files for training.\n",
            "Found 300 files belonging to 3 classes.\n",
            "Using 60 files for validation.\n",
            "Number of trian batches: 10\n",
            "Number of validation batches: 3\n",
            "Model: \"model\"\n",
            "_________________________________________________________________\n",
            " Layer (type)                Output Shape              Param #   \n",
            "=================================================================\n",
            " input_2 (InputLayer)        [(None, 160, 160, 3)]     0         \n",
            "                                                                 \n",
            " tf.math.truediv_9 (TFOpLamb  (None, 160, 160, 3)      0         \n",
            " da)                                                             \n",
            "                                                                 \n",
            " tf.math.subtract_9 (TFOpLam  (None, 160, 160, 3)      0         \n",
            " bda)                                                            \n",
            "                                                                 \n",
            " mobilenetv2_1.00_160 (Funct  (None, 5, 5, 1280)       2257984   \n",
            " ional)                                                          \n",
            "                                                                 \n",
            " global_average_pooling2d (G  (None, 1280)             0         \n",
            " lobalAveragePooling2D)                                          \n",
            "                                                                 \n",
            " dropout (Dropout)           (None, 1280)              0         \n",
            "                                                                 \n",
            " dense (Dense)               (None, 3)                 3843      \n",
            "                                                                 \n",
            " tf.nn.softmax_9 (TFOpLambda  (None, 3)                0         \n",
            " )                                                               \n",
            "                                                                 \n",
            "=================================================================\n",
            "Total params: 2,261,827\n",
            "Trainable params: 1,865,283\n",
            "Non-trainable params: 396,544\n",
            "_________________________________________________________________\n",
            "Epoch 1/5\n",
            "10/10 [==============================] - 9s 369ms/step - loss: 50.6615 - accuracy: 0.3208 - val_loss: 62.1354 - val_accuracy: 0.3833\n",
            "Epoch 2/5\n",
            "10/10 [==============================] - 6s 297ms/step - loss: 41.2316 - accuracy: 0.3375 - val_loss: 31.9236 - val_accuracy: 0.3833\n",
            "Epoch 3/5\n",
            "10/10 [==============================] - 6s 299ms/step - loss: 27.2087 - accuracy: 0.3833 - val_loss: 10.4050 - val_accuracy: 0.3833\n",
            "Epoch 4/5\n",
            "10/10 [==============================] - 5s 260ms/step - loss: 17.3421 - accuracy: 0.3125 - val_loss: 10.8518 - val_accuracy: 0.3833\n",
            "Epoch 5/5\n",
            "10/10 [==============================] - 6s 295ms/step - loss: 14.2169 - accuracy: 0.3042 - val_loss: 8.1172 - val_accuracy: 0.3000\n",
            "3/3 [==============================] - 2s 24ms/step - loss: 8.1172 - accuracy: 0.3000\n",
            "Test accuracy : 0.30000001192092896\n",
            "Predictions:\n",
            " [1 1 1 1 1 1 1 1 1 1 1 1 1 1 1 1 1 1 1 1 1 1 1 1 1]\n",
            "Labels:\n",
            " [1 0 0 1 2 0 2 2 2 2 2 1 1 1 2 2 0 1 1 0 1 2 2 2 1]\n"
          ]
        },
        {
          "output_type": "display_data",
          "data": {
            "text/html": [
              "<br/>Waiting for W&B process to finish, PID 2013... <strong style=\"color:green\">(success).</strong>"
            ],
            "text/plain": [
              "<IPython.core.display.HTML object>"
            ]
          },
          "metadata": {}
        },
        {
          "output_type": "display_data",
          "data": {
            "application/vnd.jupyter.widget-view+json": {
              "model_id": "d4b4113827c84e35b96f360d8b4cee0d",
              "version_minor": 0,
              "version_major": 2
            },
            "text/plain": [
              "VBox(children=(Label(value=' 23.29MB of 23.29MB uploaded (0.00MB deduped)\\r'), FloatProgress(value=1.0, max=1.…"
            ]
          },
          "metadata": {}
        },
        {
          "output_type": "display_data",
          "data": {
            "text/html": [
              "<style>\n",
              "    table.wandb td:nth-child(1) { padding: 0 10px; text-align: right }\n",
              "    .wandb-row { display: flex; flex-direction: row; flex-wrap: wrap; width: 100% }\n",
              "    .wandb-col { display: flex; flex-direction: column; flex-basis: 100%; flex: 1; padding: 10px; }\n",
              "    </style>\n",
              "<div class=\"wandb-row\"><div class=\"wandb-col\">\n",
              "<h3>Run history:</h3><br/><table class=\"wandb\"><tr><td>accuracy</td><td>▂▄█▂▁</td></tr><tr><td>epoch</td><td>▁▃▅▆█</td></tr><tr><td>loss</td><td>█▆▃▂▁</td></tr><tr><td>val_accuracy</td><td>████▁</td></tr><tr><td>val_loss</td><td>█▄▁▁▁</td></tr></table><br/></div><div class=\"wandb-col\">\n",
              "<h3>Run summary:</h3><br/><table class=\"wandb\"><tr><td>accuracy</td><td>0.30417</td></tr><tr><td>best_epoch</td><td>4</td></tr><tr><td>best_val_loss</td><td>8.11717</td></tr><tr><td>epoch</td><td>4</td></tr><tr><td>loss</td><td>14.21688</td></tr><tr><td>val_accuracy</td><td>0.3</td></tr><tr><td>val_loss</td><td>8.11717</td></tr></table>\n",
              "</div></div>\n",
              "Synced 5 W&B file(s), 1 media file(s), 0 artifact file(s) and 1 other file(s)\n",
              "<br/>Synced <strong style=\"color:#cdcd00\">youthful-sweep-5</strong>: <a href=\"https://wandb.ai/qrtt1/uncategorized/runs/6xtlyxxm\" target=\"_blank\">https://wandb.ai/qrtt1/uncategorized/runs/6xtlyxxm</a><br/>\n",
              "Find logs at: <code>./wandb/run-20220113_072423-6xtlyxxm/logs</code><br/>\n"
            ],
            "text/plain": [
              "<IPython.core.display.HTML object>"
            ]
          },
          "metadata": {}
        }
      ]
    },
    {
      "cell_type": "markdown",
      "source": [
        "# Step 3: Predict\n",
        "\n",
        "Use an image to test the model"
      ],
      "metadata": {
        "id": "5bCdXrro3qYD"
      }
    },
    {
      "cell_type": "code",
      "source": [
        "# !wandb agent qrtt1/new-project/hqztda7p"
      ],
      "metadata": {
        "id": "lESQczr0GeuJ"
      },
      "execution_count": null,
      "outputs": []
    },
    {
      "cell_type": "markdown",
      "source": [
        "# Step 4: Save and Load\n",
        "\n",
        "After several experiments, we can pick a best model to save."
      ],
      "metadata": {
        "id": "d_UHaf1s4f4i"
      }
    },
    {
      "cell_type": "markdown",
      "source": [
        "## Save the model"
      ],
      "metadata": {
        "id": "rlaJHysU4kg6"
      }
    },
    {
      "cell_type": "code",
      "source": [
        "_MODEL_FILE=\"model.zip\"\n",
        "\n",
        "classifier.save(_MODEL_FILE)\n",
        "wandb.log_artifact(_MODEL_FILE, 'model', 'model')"
      ],
      "metadata": {
        "id": "DGxQObmh46so",
        "outputId": "b30a4c56-9155-4b48-9b97-3da8220b4c08",
        "colab": {
          "base_uri": "https://localhost:8080/"
        }
      },
      "execution_count": null,
      "outputs": [
        {
          "output_type": "stream",
          "name": "stdout",
          "text": [
            "INFO:tensorflow:Assets written to: /tmp/tmpzpa9qnao/assets\n"
          ]
        },
        {
          "output_type": "stream",
          "name": "stderr",
          "text": [
            "/usr/local/lib/python3.7/dist-packages/keras/engine/functional.py:1410: CustomMaskWarning: Custom mask layers require a config and must override get_config. When loading, the custom mask layer must be passed to the custom_objects argument.\n",
            "  layer_config = serialize_layer_fn(layer)\n",
            "/usr/local/lib/python3.7/dist-packages/keras/saving/saved_model/layer_serialization.py:112: CustomMaskWarning: Custom mask layers require a config and must override get_config. When loading, the custom mask layer must be passed to the custom_objects argument.\n",
            "  return generic_utils.serialize_keras_object(obj)\n"
          ]
        },
        {
          "output_type": "stream",
          "name": "stdout",
          "text": [
            "dir : /\n",
            "file: /class_names.txt\n",
            "file: /keras_metadata.pb\n",
            "file: /saved_model.pb\n",
            "dir : /assets/\n",
            "dir : /variables/\n",
            "file: /variables/variables.index\n",
            "file: /variables/variables.data-00000-of-00001\n"
          ]
        },
        {
          "output_type": "execute_result",
          "data": {
            "text/plain": [
              "<wandb.sdk.wandb_artifacts.Artifact at 0x7fb64d898e90>"
            ]
          },
          "metadata": {},
          "execution_count": 27
        }
      ]
    },
    {
      "cell_type": "code",
      "source": [
        "wandb.finish()"
      ],
      "metadata": {
        "id": "SpvGIQemI0mP",
        "colab": {
          "base_uri": "https://localhost:8080/",
          "height": 333,
          "referenced_widgets": [
            "015dc46536e0450abd97e2fe39eaa8c5",
            "0840eca04e2647c68f7fa6496a78bdde",
            "c0484ce5102f47dca3fa71cc06cafd02",
            "68e40950a30c48d0838b120a64ca8636",
            "2d8fa2a133be4e149c9ad46db4dec026",
            "0606683e1f8349a0b31ad90fd85d3b14",
            "26d8dd021c2e43b5b56892082271c1b0",
            "0eadff6fd46e42359ceb4f8e3ca28ccd"
          ]
        },
        "outputId": "296fee6a-e4de-4770-cd35-32733e255188"
      },
      "execution_count": null,
      "outputs": [
        {
          "output_type": "display_data",
          "data": {
            "text/html": [
              "<br/>Waiting for W&B process to finish, PID 650... <strong style=\"color:green\">(success).</strong>"
            ],
            "text/plain": [
              "<IPython.core.display.HTML object>"
            ]
          },
          "metadata": {}
        },
        {
          "output_type": "display_data",
          "data": {
            "application/vnd.jupyter.widget-view+json": {
              "model_id": "015dc46536e0450abd97e2fe39eaa8c5",
              "version_minor": 0,
              "version_major": 2
            },
            "text/plain": [
              "VBox(children=(Label(value=' 45.03MB of 45.03MB uploaded (0.00MB deduped)\\r'), FloatProgress(value=1.0, max=1.…"
            ]
          },
          "metadata": {}
        },
        {
          "output_type": "display_data",
          "data": {
            "text/html": [
              "<style>\n",
              "    table.wandb td:nth-child(1) { padding: 0 10px; text-align: right }\n",
              "    .wandb-row { display: flex; flex-direction: row; flex-wrap: wrap; width: 100% }\n",
              "    .wandb-col { display: flex; flex-direction: column; flex-basis: 100%; flex: 1; padding: 10px; }\n",
              "    </style>\n",
              "<div class=\"wandb-row\"><div class=\"wandb-col\">\n",
              "<h3>Run history:</h3><br/><table class=\"wandb\"><tr><td>accuracy</td><td>▂█▁</td></tr><tr><td>epoch</td><td>▁▅█</td></tr><tr><td>loss</td><td>█▁▁</td></tr><tr><td>val_accuracy</td><td>█▁█</td></tr><tr><td>val_loss</td><td>▆█▁</td></tr></table><br/></div><div class=\"wandb-col\">\n",
              "<h3>Run summary:</h3><br/><table class=\"wandb\"><tr><td>accuracy</td><td>0.28333</td></tr><tr><td>best_epoch</td><td>2</td></tr><tr><td>best_val_loss</td><td>1.1126</td></tr><tr><td>epoch</td><td>2</td></tr><tr><td>loss</td><td>1.81057</td></tr><tr><td>val_accuracy</td><td>0.38333</td></tr><tr><td>val_loss</td><td>1.1126</td></tr></table>\n",
              "</div></div>\n",
              "Synced 5 W&B file(s), 1 media file(s), 1 artifact file(s) and 1 other file(s)\n",
              "<br/>Synced <strong style=\"color:#cdcd00\">auto-img-cls</strong>: <a href=\"https://wandb.ai/qrtt1/toy-project/runs/24w9bozn\" target=\"_blank\">https://wandb.ai/qrtt1/toy-project/runs/24w9bozn</a><br/>\n",
              "Find logs at: <code>./wandb/run-20220113_065620-24w9bozn/logs</code><br/>\n"
            ],
            "text/plain": [
              "<IPython.core.display.HTML object>"
            ]
          },
          "metadata": {}
        }
      ]
    },
    {
      "cell_type": "code",
      "source": [
        ""
      ],
      "metadata": {
        "id": "1uWzDaIXWmRz"
      },
      "execution_count": null,
      "outputs": []
    }
  ]
}